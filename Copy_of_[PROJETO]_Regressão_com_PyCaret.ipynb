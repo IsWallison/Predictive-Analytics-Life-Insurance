{
  "nbformat": 4,
  "nbformat_minor": 0,
  "metadata": {
    "colab": {
      "provenance": [],
      "include_colab_link": true
    },
    "kernelspec": {
      "name": "python3",
      "display_name": "Python 3"
    },
    "widgets": {
      "application/vnd.jupyter.widget-state+json": {
        "82cf3612da2b4326b9d7bff523fb0081": {
          "model_module": "@jupyter-widgets/controls",
          "model_name": "HBoxModel",
          "model_module_version": "1.5.0",
          "state": {
            "_dom_classes": [],
            "_model_module": "@jupyter-widgets/controls",
            "_model_module_version": "1.5.0",
            "_model_name": "HBoxModel",
            "_view_count": null,
            "_view_module": "@jupyter-widgets/controls",
            "_view_module_version": "1.5.0",
            "_view_name": "HBoxView",
            "box_style": "",
            "children": [
              "IPY_MODEL_fb71fa76195b41feb457cdd422cfb4ae",
              "IPY_MODEL_28926f46d2b94e6dab037a1e1c861897",
              "IPY_MODEL_facaa3a42a98441b9d0af9bcca8c0eea"
            ],
            "layout": "IPY_MODEL_598ae67f85d54a7c93b670c2d58bc3fb"
          }
        },
        "fb71fa76195b41feb457cdd422cfb4ae": {
          "model_module": "@jupyter-widgets/controls",
          "model_name": "HTMLModel",
          "model_module_version": "1.5.0",
          "state": {
            "_dom_classes": [],
            "_model_module": "@jupyter-widgets/controls",
            "_model_module_version": "1.5.0",
            "_model_name": "HTMLModel",
            "_view_count": null,
            "_view_module": "@jupyter-widgets/controls",
            "_view_module_version": "1.5.0",
            "_view_name": "HTMLView",
            "description": "",
            "description_tooltip": null,
            "layout": "IPY_MODEL_3fca5e3c5dc549bdb19087f5f93670a0",
            "placeholder": "​",
            "style": "IPY_MODEL_ba096acc4c96448e93432f829fa3cb6e",
            "value": "Processing: 100%"
          }
        },
        "28926f46d2b94e6dab037a1e1c861897": {
          "model_module": "@jupyter-widgets/controls",
          "model_name": "FloatProgressModel",
          "model_module_version": "1.5.0",
          "state": {
            "_dom_classes": [],
            "_model_module": "@jupyter-widgets/controls",
            "_model_module_version": "1.5.0",
            "_model_name": "FloatProgressModel",
            "_view_count": null,
            "_view_module": "@jupyter-widgets/controls",
            "_view_module_version": "1.5.0",
            "_view_name": "ProgressView",
            "bar_style": "",
            "description": "",
            "description_tooltip": null,
            "layout": "IPY_MODEL_18fbf6db73a14aef8337294fb23c6859",
            "max": 81,
            "min": 0,
            "orientation": "horizontal",
            "style": "IPY_MODEL_aae9bca2329344bfb06bd1591013318c",
            "value": 81
          }
        },
        "facaa3a42a98441b9d0af9bcca8c0eea": {
          "model_module": "@jupyter-widgets/controls",
          "model_name": "HTMLModel",
          "model_module_version": "1.5.0",
          "state": {
            "_dom_classes": [],
            "_model_module": "@jupyter-widgets/controls",
            "_model_module_version": "1.5.0",
            "_model_name": "HTMLModel",
            "_view_count": null,
            "_view_module": "@jupyter-widgets/controls",
            "_view_module_version": "1.5.0",
            "_view_name": "HTMLView",
            "description": "",
            "description_tooltip": null,
            "layout": "IPY_MODEL_44d1e92be4b445abbed5b520eca5954e",
            "placeholder": "​",
            "style": "IPY_MODEL_bc8f1b856ad84a3281219bbc2095853f",
            "value": " 81/81 [01:42&lt;00:00,  1.29it/s]"
          }
        },
        "598ae67f85d54a7c93b670c2d58bc3fb": {
          "model_module": "@jupyter-widgets/base",
          "model_name": "LayoutModel",
          "model_module_version": "1.2.0",
          "state": {
            "_model_module": "@jupyter-widgets/base",
            "_model_module_version": "1.2.0",
            "_model_name": "LayoutModel",
            "_view_count": null,
            "_view_module": "@jupyter-widgets/base",
            "_view_module_version": "1.2.0",
            "_view_name": "LayoutView",
            "align_content": null,
            "align_items": null,
            "align_self": null,
            "border": null,
            "bottom": null,
            "display": null,
            "flex": null,
            "flex_flow": null,
            "grid_area": null,
            "grid_auto_columns": null,
            "grid_auto_flow": null,
            "grid_auto_rows": null,
            "grid_column": null,
            "grid_gap": null,
            "grid_row": null,
            "grid_template_areas": null,
            "grid_template_columns": null,
            "grid_template_rows": null,
            "height": null,
            "justify_content": null,
            "justify_items": null,
            "left": null,
            "margin": null,
            "max_height": null,
            "max_width": null,
            "min_height": null,
            "min_width": null,
            "object_fit": null,
            "object_position": null,
            "order": null,
            "overflow": null,
            "overflow_x": null,
            "overflow_y": null,
            "padding": null,
            "right": null,
            "top": null,
            "visibility": "hidden",
            "width": null
          }
        },
        "3fca5e3c5dc549bdb19087f5f93670a0": {
          "model_module": "@jupyter-widgets/base",
          "model_name": "LayoutModel",
          "model_module_version": "1.2.0",
          "state": {
            "_model_module": "@jupyter-widgets/base",
            "_model_module_version": "1.2.0",
            "_model_name": "LayoutModel",
            "_view_count": null,
            "_view_module": "@jupyter-widgets/base",
            "_view_module_version": "1.2.0",
            "_view_name": "LayoutView",
            "align_content": null,
            "align_items": null,
            "align_self": null,
            "border": null,
            "bottom": null,
            "display": null,
            "flex": null,
            "flex_flow": null,
            "grid_area": null,
            "grid_auto_columns": null,
            "grid_auto_flow": null,
            "grid_auto_rows": null,
            "grid_column": null,
            "grid_gap": null,
            "grid_row": null,
            "grid_template_areas": null,
            "grid_template_columns": null,
            "grid_template_rows": null,
            "height": null,
            "justify_content": null,
            "justify_items": null,
            "left": null,
            "margin": null,
            "max_height": null,
            "max_width": null,
            "min_height": null,
            "min_width": null,
            "object_fit": null,
            "object_position": null,
            "order": null,
            "overflow": null,
            "overflow_x": null,
            "overflow_y": null,
            "padding": null,
            "right": null,
            "top": null,
            "visibility": null,
            "width": null
          }
        },
        "ba096acc4c96448e93432f829fa3cb6e": {
          "model_module": "@jupyter-widgets/controls",
          "model_name": "DescriptionStyleModel",
          "model_module_version": "1.5.0",
          "state": {
            "_model_module": "@jupyter-widgets/controls",
            "_model_module_version": "1.5.0",
            "_model_name": "DescriptionStyleModel",
            "_view_count": null,
            "_view_module": "@jupyter-widgets/base",
            "_view_module_version": "1.2.0",
            "_view_name": "StyleView",
            "description_width": ""
          }
        },
        "18fbf6db73a14aef8337294fb23c6859": {
          "model_module": "@jupyter-widgets/base",
          "model_name": "LayoutModel",
          "model_module_version": "1.2.0",
          "state": {
            "_model_module": "@jupyter-widgets/base",
            "_model_module_version": "1.2.0",
            "_model_name": "LayoutModel",
            "_view_count": null,
            "_view_module": "@jupyter-widgets/base",
            "_view_module_version": "1.2.0",
            "_view_name": "LayoutView",
            "align_content": null,
            "align_items": null,
            "align_self": null,
            "border": null,
            "bottom": null,
            "display": null,
            "flex": null,
            "flex_flow": null,
            "grid_area": null,
            "grid_auto_columns": null,
            "grid_auto_flow": null,
            "grid_auto_rows": null,
            "grid_column": null,
            "grid_gap": null,
            "grid_row": null,
            "grid_template_areas": null,
            "grid_template_columns": null,
            "grid_template_rows": null,
            "height": null,
            "justify_content": null,
            "justify_items": null,
            "left": null,
            "margin": null,
            "max_height": null,
            "max_width": null,
            "min_height": null,
            "min_width": null,
            "object_fit": null,
            "object_position": null,
            "order": null,
            "overflow": null,
            "overflow_x": null,
            "overflow_y": null,
            "padding": null,
            "right": null,
            "top": null,
            "visibility": null,
            "width": null
          }
        },
        "aae9bca2329344bfb06bd1591013318c": {
          "model_module": "@jupyter-widgets/controls",
          "model_name": "ProgressStyleModel",
          "model_module_version": "1.5.0",
          "state": {
            "_model_module": "@jupyter-widgets/controls",
            "_model_module_version": "1.5.0",
            "_model_name": "ProgressStyleModel",
            "_view_count": null,
            "_view_module": "@jupyter-widgets/base",
            "_view_module_version": "1.2.0",
            "_view_name": "StyleView",
            "bar_color": null,
            "description_width": ""
          }
        },
        "44d1e92be4b445abbed5b520eca5954e": {
          "model_module": "@jupyter-widgets/base",
          "model_name": "LayoutModel",
          "model_module_version": "1.2.0",
          "state": {
            "_model_module": "@jupyter-widgets/base",
            "_model_module_version": "1.2.0",
            "_model_name": "LayoutModel",
            "_view_count": null,
            "_view_module": "@jupyter-widgets/base",
            "_view_module_version": "1.2.0",
            "_view_name": "LayoutView",
            "align_content": null,
            "align_items": null,
            "align_self": null,
            "border": null,
            "bottom": null,
            "display": null,
            "flex": null,
            "flex_flow": null,
            "grid_area": null,
            "grid_auto_columns": null,
            "grid_auto_flow": null,
            "grid_auto_rows": null,
            "grid_column": null,
            "grid_gap": null,
            "grid_row": null,
            "grid_template_areas": null,
            "grid_template_columns": null,
            "grid_template_rows": null,
            "height": null,
            "justify_content": null,
            "justify_items": null,
            "left": null,
            "margin": null,
            "max_height": null,
            "max_width": null,
            "min_height": null,
            "min_width": null,
            "object_fit": null,
            "object_position": null,
            "order": null,
            "overflow": null,
            "overflow_x": null,
            "overflow_y": null,
            "padding": null,
            "right": null,
            "top": null,
            "visibility": null,
            "width": null
          }
        },
        "bc8f1b856ad84a3281219bbc2095853f": {
          "model_module": "@jupyter-widgets/controls",
          "model_name": "DescriptionStyleModel",
          "model_module_version": "1.5.0",
          "state": {
            "_model_module": "@jupyter-widgets/controls",
            "_model_module_version": "1.5.0",
            "_model_name": "DescriptionStyleModel",
            "_view_count": null,
            "_view_module": "@jupyter-widgets/base",
            "_view_module_version": "1.2.0",
            "_view_name": "StyleView",
            "description_width": ""
          }
        },
        "1b165cd52a0a4f8fa6548cfc34bc900f": {
          "model_module": "@jupyter-widgets/controls",
          "model_name": "VBoxModel",
          "model_module_version": "1.5.0",
          "state": {
            "_dom_classes": [
              "widget-interact"
            ],
            "_model_module": "@jupyter-widgets/controls",
            "_model_module_version": "1.5.0",
            "_model_name": "VBoxModel",
            "_view_count": null,
            "_view_module": "@jupyter-widgets/controls",
            "_view_module_version": "1.5.0",
            "_view_name": "VBoxView",
            "box_style": "",
            "children": [
              "IPY_MODEL_be37b746e8ac4a8f8508f9cde64c5af8",
              "IPY_MODEL_4aaafb7f4b264f1a86c2445e41e62dad"
            ],
            "layout": "IPY_MODEL_e4ac25b54fa14512a393cbf4895ea9df"
          }
        },
        "be37b746e8ac4a8f8508f9cde64c5af8": {
          "model_module": "@jupyter-widgets/controls",
          "model_name": "ToggleButtonsModel",
          "model_module_version": "1.5.0",
          "state": {
            "_dom_classes": [],
            "_model_module": "@jupyter-widgets/controls",
            "_model_module_version": "1.5.0",
            "_model_name": "ToggleButtonsModel",
            "_options_labels": [
              "Pipeline Plot",
              "Hyperparameters",
              "Residuals",
              "Prediction Error",
              "Cooks Distance",
              "Feature Selection",
              "Learning Curve",
              "Manifold Learning",
              "Validation Curve",
              "Feature Importance",
              "Feature Importance (All)",
              "Decision Tree",
              "Interactive Residuals"
            ],
            "_view_count": null,
            "_view_module": "@jupyter-widgets/controls",
            "_view_module_version": "1.5.0",
            "_view_name": "ToggleButtonsView",
            "button_style": "",
            "description": "Plot Type:",
            "description_tooltip": null,
            "disabled": false,
            "icons": [
              ""
            ],
            "index": 0,
            "layout": "IPY_MODEL_e2e60da4b4b54871aa230c8a8ef6d9ea",
            "style": "IPY_MODEL_e95448891b444c0c86c6dcdb4b4d8bd4",
            "tooltips": []
          }
        },
        "4aaafb7f4b264f1a86c2445e41e62dad": {
          "model_module": "@jupyter-widgets/output",
          "model_name": "OutputModel",
          "model_module_version": "1.0.0",
          "state": {
            "_dom_classes": [],
            "_model_module": "@jupyter-widgets/output",
            "_model_module_version": "1.0.0",
            "_model_name": "OutputModel",
            "_view_count": null,
            "_view_module": "@jupyter-widgets/output",
            "_view_module_version": "1.0.0",
            "_view_name": "OutputView",
            "layout": "IPY_MODEL_2fc545346de94e4d85410a12789f1f6c",
            "msg_id": "",
            "outputs": [
              {
                "output_type": "display_data",
                "data": {
                  "text/plain": "<Figure size 2200x600 with 1 Axes>",
                  "image/png": "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\n"
                },
                "metadata": {}
              }
            ]
          }
        },
        "e4ac25b54fa14512a393cbf4895ea9df": {
          "model_module": "@jupyter-widgets/base",
          "model_name": "LayoutModel",
          "model_module_version": "1.2.0",
          "state": {
            "_model_module": "@jupyter-widgets/base",
            "_model_module_version": "1.2.0",
            "_model_name": "LayoutModel",
            "_view_count": null,
            "_view_module": "@jupyter-widgets/base",
            "_view_module_version": "1.2.0",
            "_view_name": "LayoutView",
            "align_content": null,
            "align_items": null,
            "align_self": null,
            "border": null,
            "bottom": null,
            "display": null,
            "flex": null,
            "flex_flow": null,
            "grid_area": null,
            "grid_auto_columns": null,
            "grid_auto_flow": null,
            "grid_auto_rows": null,
            "grid_column": null,
            "grid_gap": null,
            "grid_row": null,
            "grid_template_areas": null,
            "grid_template_columns": null,
            "grid_template_rows": null,
            "height": null,
            "justify_content": null,
            "justify_items": null,
            "left": null,
            "margin": null,
            "max_height": null,
            "max_width": null,
            "min_height": null,
            "min_width": null,
            "object_fit": null,
            "object_position": null,
            "order": null,
            "overflow": null,
            "overflow_x": null,
            "overflow_y": null,
            "padding": null,
            "right": null,
            "top": null,
            "visibility": null,
            "width": null
          }
        },
        "e2e60da4b4b54871aa230c8a8ef6d9ea": {
          "model_module": "@jupyter-widgets/base",
          "model_name": "LayoutModel",
          "model_module_version": "1.2.0",
          "state": {
            "_model_module": "@jupyter-widgets/base",
            "_model_module_version": "1.2.0",
            "_model_name": "LayoutModel",
            "_view_count": null,
            "_view_module": "@jupyter-widgets/base",
            "_view_module_version": "1.2.0",
            "_view_name": "LayoutView",
            "align_content": null,
            "align_items": null,
            "align_self": null,
            "border": null,
            "bottom": null,
            "display": null,
            "flex": null,
            "flex_flow": null,
            "grid_area": null,
            "grid_auto_columns": null,
            "grid_auto_flow": null,
            "grid_auto_rows": null,
            "grid_column": null,
            "grid_gap": null,
            "grid_row": null,
            "grid_template_areas": null,
            "grid_template_columns": null,
            "grid_template_rows": null,
            "height": null,
            "justify_content": null,
            "justify_items": null,
            "left": null,
            "margin": null,
            "max_height": null,
            "max_width": null,
            "min_height": null,
            "min_width": null,
            "object_fit": null,
            "object_position": null,
            "order": null,
            "overflow": null,
            "overflow_x": null,
            "overflow_y": null,
            "padding": null,
            "right": null,
            "top": null,
            "visibility": null,
            "width": null
          }
        },
        "e95448891b444c0c86c6dcdb4b4d8bd4": {
          "model_module": "@jupyter-widgets/controls",
          "model_name": "ToggleButtonsStyleModel",
          "model_module_version": "1.5.0",
          "state": {
            "_model_module": "@jupyter-widgets/controls",
            "_model_module_version": "1.5.0",
            "_model_name": "ToggleButtonsStyleModel",
            "_view_count": null,
            "_view_module": "@jupyter-widgets/base",
            "_view_module_version": "1.2.0",
            "_view_name": "StyleView",
            "button_width": "",
            "description_width": "",
            "font_weight": ""
          }
        },
        "2fc545346de94e4d85410a12789f1f6c": {
          "model_module": "@jupyter-widgets/base",
          "model_name": "LayoutModel",
          "model_module_version": "1.2.0",
          "state": {
            "_model_module": "@jupyter-widgets/base",
            "_model_module_version": "1.2.0",
            "_model_name": "LayoutModel",
            "_view_count": null,
            "_view_module": "@jupyter-widgets/base",
            "_view_module_version": "1.2.0",
            "_view_name": "LayoutView",
            "align_content": null,
            "align_items": null,
            "align_self": null,
            "border": null,
            "bottom": null,
            "display": null,
            "flex": null,
            "flex_flow": null,
            "grid_area": null,
            "grid_auto_columns": null,
            "grid_auto_flow": null,
            "grid_auto_rows": null,
            "grid_column": null,
            "grid_gap": null,
            "grid_row": null,
            "grid_template_areas": null,
            "grid_template_columns": null,
            "grid_template_rows": null,
            "height": null,
            "justify_content": null,
            "justify_items": null,
            "left": null,
            "margin": null,
            "max_height": null,
            "max_width": null,
            "min_height": null,
            "min_width": null,
            "object_fit": null,
            "object_position": null,
            "order": null,
            "overflow": null,
            "overflow_x": null,
            "overflow_y": null,
            "padding": null,
            "right": null,
            "top": null,
            "visibility": null,
            "width": null
          }
        }
      }
    }
  },
  "cells": [
    {
      "cell_type": "markdown",
      "metadata": {
        "id": "view-in-github",
        "colab_type": "text"
      },
      "source": [
        "<a href=\"https://colab.research.google.com/github/IsWallison/Predictive-Analytics-Life-Insurance/blob/main/Copy_of_%5BPROJETO%5D_Regress%C3%A3o_com_PyCaret.ipynb\" target=\"_parent\"><img src=\"https://colab.research.google.com/assets/colab-badge.svg\" alt=\"Open In Colab\"/></a>"
      ]
    },
    {
      "cell_type": "markdown",
      "metadata": {
        "id": "EE9X48au6Mez"
      },
      "source": [
        "<img alt=\"Colaboratory logo\" width=\"15%\" src=\"https://raw.githubusercontent.com/carlosfab/escola-data-science/master/img/novo_logo_bg_claro.png\">\n",
        "\n",
        "#### **Data Science na Prática 3.0**\n",
        "\n",
        "\n",
        "---"
      ]
    },
    {
      "cell_type": "markdown",
      "metadata": {
        "id": "TLbRIt7ElMWx"
      },
      "source": [
        "# PROJETO REGRESSÃO\n",
        "\n",
        "Como falamos antes, nossos templates ficarão cada vez mais simples!!\n",
        "\n",
        "O objetivo deste projeto é desenvolver um projeto de Regressão para prever o custo do Seguro de Vida, com [esses dados do Kaggle](https://www.kaggle.com/annetxu/health-insurance-cost-prediction).\n",
        "\n",
        "Aqui, queremos, como sempre, trazer o máximo de autonomia e independência pra vocês. Façam o download, e disponibilizem os seus dados, carreguem eles aqui, e desenvolvam o projeto.\n",
        "\n",
        "## Objetivos\n",
        "\n",
        "* Adquirir e disponibilizar os dados\n",
        "* Análise completa dos dados e do problema (Na mão, ou com Pandas Profiling, SweetViz, etc)\n",
        "* Desenvolver uma solução de Machine Learning eficiente com PyCaret para Regressão\n",
        "\n",
        "LEMBREM-SE: Documentação, Storytelling, Artigo com Código! \n",
        "\n",
        "Mãos à obra e boa sorte!\n"
      ]
    },
    {
      "cell_type": "code",
      "source": [
        "!pip install schemdraw==0.15\n",
        "!pip install pycaret"
      ],
      "metadata": {
        "id": "KuZJnoUrimuI"
      },
      "execution_count": 1,
      "outputs": []
    },
    {
      "cell_type": "code",
      "metadata": {
        "id": "YJPmLSNMuqVa"
      },
      "source": [
        "import pandas as pd\n",
        "import matplotlib.pyplot as plt\n",
        "import seaborn as sns\n",
        "import numpy as np\n",
        "from pycaret.utils import version\n",
        "from pycaret.regression import *\n",
        "\n",
        "from sklearn.model_selection import train_test_split\n"
      ],
      "execution_count": 2,
      "outputs": []
    },
    {
      "cell_type": "code",
      "source": [
        "df =  pd.read_csv('https://raw.githubusercontent.com/IsWallison/Predictive-Analytics-Life-Insurance/main/insurance.csv')\n",
        "df_clean = df.copy()\n",
        "df_clean.head()"
      ],
      "metadata": {
        "colab": {
          "base_uri": "https://localhost:8080/",
          "height": 206
        },
        "id": "hTn6OoGZODLD",
        "outputId": "29592ff5-64e4-4c2c-81ac-ec73c074b574"
      },
      "execution_count": 116,
      "outputs": [
        {
          "output_type": "execute_result",
          "data": {
            "text/plain": [
              "   age     sex   bmi  children smoker     region  expenses\n",
              "0   19  female  27.9         0    yes  southwest  16884.92\n",
              "1   18    male  33.8         1     no  southeast   1725.55\n",
              "2   28    male  33.0         3     no  southeast   4449.46\n",
              "3   33    male  22.7         0     no  northwest  21984.47\n",
              "4   32    male  28.9         0     no  northwest   3866.86"
            ],
            "text/html": [
              "\n",
              "  <div id=\"df-c66795b4-f4ce-46e9-b233-6ba193c6faea\">\n",
              "    <div class=\"colab-df-container\">\n",
              "      <div>\n",
              "<style scoped>\n",
              "    .dataframe tbody tr th:only-of-type {\n",
              "        vertical-align: middle;\n",
              "    }\n",
              "\n",
              "    .dataframe tbody tr th {\n",
              "        vertical-align: top;\n",
              "    }\n",
              "\n",
              "    .dataframe thead th {\n",
              "        text-align: right;\n",
              "    }\n",
              "</style>\n",
              "<table border=\"1\" class=\"dataframe\">\n",
              "  <thead>\n",
              "    <tr style=\"text-align: right;\">\n",
              "      <th></th>\n",
              "      <th>age</th>\n",
              "      <th>sex</th>\n",
              "      <th>bmi</th>\n",
              "      <th>children</th>\n",
              "      <th>smoker</th>\n",
              "      <th>region</th>\n",
              "      <th>expenses</th>\n",
              "    </tr>\n",
              "  </thead>\n",
              "  <tbody>\n",
              "    <tr>\n",
              "      <th>0</th>\n",
              "      <td>19</td>\n",
              "      <td>female</td>\n",
              "      <td>27.9</td>\n",
              "      <td>0</td>\n",
              "      <td>yes</td>\n",
              "      <td>southwest</td>\n",
              "      <td>16884.92</td>\n",
              "    </tr>\n",
              "    <tr>\n",
              "      <th>1</th>\n",
              "      <td>18</td>\n",
              "      <td>male</td>\n",
              "      <td>33.8</td>\n",
              "      <td>1</td>\n",
              "      <td>no</td>\n",
              "      <td>southeast</td>\n",
              "      <td>1725.55</td>\n",
              "    </tr>\n",
              "    <tr>\n",
              "      <th>2</th>\n",
              "      <td>28</td>\n",
              "      <td>male</td>\n",
              "      <td>33.0</td>\n",
              "      <td>3</td>\n",
              "      <td>no</td>\n",
              "      <td>southeast</td>\n",
              "      <td>4449.46</td>\n",
              "    </tr>\n",
              "    <tr>\n",
              "      <th>3</th>\n",
              "      <td>33</td>\n",
              "      <td>male</td>\n",
              "      <td>22.7</td>\n",
              "      <td>0</td>\n",
              "      <td>no</td>\n",
              "      <td>northwest</td>\n",
              "      <td>21984.47</td>\n",
              "    </tr>\n",
              "    <tr>\n",
              "      <th>4</th>\n",
              "      <td>32</td>\n",
              "      <td>male</td>\n",
              "      <td>28.9</td>\n",
              "      <td>0</td>\n",
              "      <td>no</td>\n",
              "      <td>northwest</td>\n",
              "      <td>3866.86</td>\n",
              "    </tr>\n",
              "  </tbody>\n",
              "</table>\n",
              "</div>\n",
              "      <button class=\"colab-df-convert\" onclick=\"convertToInteractive('df-c66795b4-f4ce-46e9-b233-6ba193c6faea')\"\n",
              "              title=\"Convert this dataframe to an interactive table.\"\n",
              "              style=\"display:none;\">\n",
              "        \n",
              "  <svg xmlns=\"http://www.w3.org/2000/svg\" height=\"24px\"viewBox=\"0 0 24 24\"\n",
              "       width=\"24px\">\n",
              "    <path d=\"M0 0h24v24H0V0z\" fill=\"none\"/>\n",
              "    <path d=\"M18.56 5.44l.94 2.06.94-2.06 2.06-.94-2.06-.94-.94-2.06-.94 2.06-2.06.94zm-11 1L8.5 8.5l.94-2.06 2.06-.94-2.06-.94L8.5 2.5l-.94 2.06-2.06.94zm10 10l.94 2.06.94-2.06 2.06-.94-2.06-.94-.94-2.06-.94 2.06-2.06.94z\"/><path d=\"M17.41 7.96l-1.37-1.37c-.4-.4-.92-.59-1.43-.59-.52 0-1.04.2-1.43.59L10.3 9.45l-7.72 7.72c-.78.78-.78 2.05 0 2.83L4 21.41c.39.39.9.59 1.41.59.51 0 1.02-.2 1.41-.59l7.78-7.78 2.81-2.81c.8-.78.8-2.07 0-2.86zM5.41 20L4 18.59l7.72-7.72 1.47 1.35L5.41 20z\"/>\n",
              "  </svg>\n",
              "      </button>\n",
              "      \n",
              "  <style>\n",
              "    .colab-df-container {\n",
              "      display:flex;\n",
              "      flex-wrap:wrap;\n",
              "      gap: 12px;\n",
              "    }\n",
              "\n",
              "    .colab-df-convert {\n",
              "      background-color: #E8F0FE;\n",
              "      border: none;\n",
              "      border-radius: 50%;\n",
              "      cursor: pointer;\n",
              "      display: none;\n",
              "      fill: #1967D2;\n",
              "      height: 32px;\n",
              "      padding: 0 0 0 0;\n",
              "      width: 32px;\n",
              "    }\n",
              "\n",
              "    .colab-df-convert:hover {\n",
              "      background-color: #E2EBFA;\n",
              "      box-shadow: 0px 1px 2px rgba(60, 64, 67, 0.3), 0px 1px 3px 1px rgba(60, 64, 67, 0.15);\n",
              "      fill: #174EA6;\n",
              "    }\n",
              "\n",
              "    [theme=dark] .colab-df-convert {\n",
              "      background-color: #3B4455;\n",
              "      fill: #D2E3FC;\n",
              "    }\n",
              "\n",
              "    [theme=dark] .colab-df-convert:hover {\n",
              "      background-color: #434B5C;\n",
              "      box-shadow: 0px 1px 3px 1px rgba(0, 0, 0, 0.15);\n",
              "      filter: drop-shadow(0px 1px 2px rgba(0, 0, 0, 0.3));\n",
              "      fill: #FFFFFF;\n",
              "    }\n",
              "  </style>\n",
              "\n",
              "      <script>\n",
              "        const buttonEl =\n",
              "          document.querySelector('#df-c66795b4-f4ce-46e9-b233-6ba193c6faea button.colab-df-convert');\n",
              "        buttonEl.style.display =\n",
              "          google.colab.kernel.accessAllowed ? 'block' : 'none';\n",
              "\n",
              "        async function convertToInteractive(key) {\n",
              "          const element = document.querySelector('#df-c66795b4-f4ce-46e9-b233-6ba193c6faea');\n",
              "          const dataTable =\n",
              "            await google.colab.kernel.invokeFunction('convertToInteractive',\n",
              "                                                     [key], {});\n",
              "          if (!dataTable) return;\n",
              "\n",
              "          const docLinkHtml = 'Like what you see? Visit the ' +\n",
              "            '<a target=\"_blank\" href=https://colab.research.google.com/notebooks/data_table.ipynb>data table notebook</a>'\n",
              "            + ' to learn more about interactive tables.';\n",
              "          element.innerHTML = '';\n",
              "          dataTable['output_type'] = 'display_data';\n",
              "          await google.colab.output.renderOutput(dataTable, element);\n",
              "          const docLink = document.createElement('div');\n",
              "          docLink.innerHTML = docLinkHtml;\n",
              "          element.appendChild(docLink);\n",
              "        }\n",
              "      </script>\n",
              "    </div>\n",
              "  </div>\n",
              "  "
            ]
          },
          "metadata": {},
          "execution_count": 116
        }
      ]
    },
    {
      "cell_type": "code",
      "source": [
        "df_clean.isnull().sum()"
      ],
      "metadata": {
        "colab": {
          "base_uri": "https://localhost:8080/"
        },
        "id": "4urgpgleOKBZ",
        "outputId": "3d034b47-7bbf-4fdb-90a1-dc9f25a7287b"
      },
      "execution_count": 4,
      "outputs": [
        {
          "output_type": "execute_result",
          "data": {
            "text/plain": [
              "age         0\n",
              "sex         0\n",
              "bmi         0\n",
              "children    0\n",
              "smoker      0\n",
              "region      0\n",
              "expenses    0\n",
              "dtype: int64"
            ]
          },
          "metadata": {},
          "execution_count": 4
        }
      ]
    },
    {
      "cell_type": "code",
      "source": [
        "df_clean.info()"
      ],
      "metadata": {
        "colab": {
          "base_uri": "https://localhost:8080/"
        },
        "id": "4cGTi4IRRg2K",
        "outputId": "36bed702-be22-4ad8-a47d-0310420747ba"
      },
      "execution_count": 5,
      "outputs": [
        {
          "output_type": "stream",
          "name": "stdout",
          "text": [
            "<class 'pandas.core.frame.DataFrame'>\n",
            "RangeIndex: 1338 entries, 0 to 1337\n",
            "Data columns (total 7 columns):\n",
            " #   Column    Non-Null Count  Dtype  \n",
            "---  ------    --------------  -----  \n",
            " 0   age       1338 non-null   int64  \n",
            " 1   sex       1338 non-null   object \n",
            " 2   bmi       1338 non-null   float64\n",
            " 3   children  1338 non-null   int64  \n",
            " 4   smoker    1338 non-null   object \n",
            " 5   region    1338 non-null   object \n",
            " 6   expenses  1338 non-null   float64\n",
            "dtypes: float64(2), int64(2), object(3)\n",
            "memory usage: 73.3+ KB\n"
          ]
        }
      ]
    },
    {
      "cell_type": "code",
      "source": [
        "df_clean.describe()"
      ],
      "metadata": {
        "colab": {
          "base_uri": "https://localhost:8080/",
          "height": 300
        },
        "id": "SN-w6nxRRlDS",
        "outputId": "d6e63060-e1e4-49e1-a408-029ba3375368"
      },
      "execution_count": 6,
      "outputs": [
        {
          "output_type": "execute_result",
          "data": {
            "text/plain": [
              "               age          bmi     children      expenses\n",
              "count  1338.000000  1338.000000  1338.000000   1338.000000\n",
              "mean     39.207025    30.665471     1.094918  13270.422414\n",
              "std      14.049960     6.098382     1.205493  12110.011240\n",
              "min      18.000000    16.000000     0.000000   1121.870000\n",
              "25%      27.000000    26.300000     0.000000   4740.287500\n",
              "50%      39.000000    30.400000     1.000000   9382.030000\n",
              "75%      51.000000    34.700000     2.000000  16639.915000\n",
              "max      64.000000    53.100000     5.000000  63770.430000"
            ],
            "text/html": [
              "\n",
              "  <div id=\"df-1414ca71-f3af-4bba-a7f8-716597c8f542\">\n",
              "    <div class=\"colab-df-container\">\n",
              "      <div>\n",
              "<style scoped>\n",
              "    .dataframe tbody tr th:only-of-type {\n",
              "        vertical-align: middle;\n",
              "    }\n",
              "\n",
              "    .dataframe tbody tr th {\n",
              "        vertical-align: top;\n",
              "    }\n",
              "\n",
              "    .dataframe thead th {\n",
              "        text-align: right;\n",
              "    }\n",
              "</style>\n",
              "<table border=\"1\" class=\"dataframe\">\n",
              "  <thead>\n",
              "    <tr style=\"text-align: right;\">\n",
              "      <th></th>\n",
              "      <th>age</th>\n",
              "      <th>bmi</th>\n",
              "      <th>children</th>\n",
              "      <th>expenses</th>\n",
              "    </tr>\n",
              "  </thead>\n",
              "  <tbody>\n",
              "    <tr>\n",
              "      <th>count</th>\n",
              "      <td>1338.000000</td>\n",
              "      <td>1338.000000</td>\n",
              "      <td>1338.000000</td>\n",
              "      <td>1338.000000</td>\n",
              "    </tr>\n",
              "    <tr>\n",
              "      <th>mean</th>\n",
              "      <td>39.207025</td>\n",
              "      <td>30.665471</td>\n",
              "      <td>1.094918</td>\n",
              "      <td>13270.422414</td>\n",
              "    </tr>\n",
              "    <tr>\n",
              "      <th>std</th>\n",
              "      <td>14.049960</td>\n",
              "      <td>6.098382</td>\n",
              "      <td>1.205493</td>\n",
              "      <td>12110.011240</td>\n",
              "    </tr>\n",
              "    <tr>\n",
              "      <th>min</th>\n",
              "      <td>18.000000</td>\n",
              "      <td>16.000000</td>\n",
              "      <td>0.000000</td>\n",
              "      <td>1121.870000</td>\n",
              "    </tr>\n",
              "    <tr>\n",
              "      <th>25%</th>\n",
              "      <td>27.000000</td>\n",
              "      <td>26.300000</td>\n",
              "      <td>0.000000</td>\n",
              "      <td>4740.287500</td>\n",
              "    </tr>\n",
              "    <tr>\n",
              "      <th>50%</th>\n",
              "      <td>39.000000</td>\n",
              "      <td>30.400000</td>\n",
              "      <td>1.000000</td>\n",
              "      <td>9382.030000</td>\n",
              "    </tr>\n",
              "    <tr>\n",
              "      <th>75%</th>\n",
              "      <td>51.000000</td>\n",
              "      <td>34.700000</td>\n",
              "      <td>2.000000</td>\n",
              "      <td>16639.915000</td>\n",
              "    </tr>\n",
              "    <tr>\n",
              "      <th>max</th>\n",
              "      <td>64.000000</td>\n",
              "      <td>53.100000</td>\n",
              "      <td>5.000000</td>\n",
              "      <td>63770.430000</td>\n",
              "    </tr>\n",
              "  </tbody>\n",
              "</table>\n",
              "</div>\n",
              "      <button class=\"colab-df-convert\" onclick=\"convertToInteractive('df-1414ca71-f3af-4bba-a7f8-716597c8f542')\"\n",
              "              title=\"Convert this dataframe to an interactive table.\"\n",
              "              style=\"display:none;\">\n",
              "        \n",
              "  <svg xmlns=\"http://www.w3.org/2000/svg\" height=\"24px\"viewBox=\"0 0 24 24\"\n",
              "       width=\"24px\">\n",
              "    <path d=\"M0 0h24v24H0V0z\" fill=\"none\"/>\n",
              "    <path d=\"M18.56 5.44l.94 2.06.94-2.06 2.06-.94-2.06-.94-.94-2.06-.94 2.06-2.06.94zm-11 1L8.5 8.5l.94-2.06 2.06-.94-2.06-.94L8.5 2.5l-.94 2.06-2.06.94zm10 10l.94 2.06.94-2.06 2.06-.94-2.06-.94-.94-2.06-.94 2.06-2.06.94z\"/><path d=\"M17.41 7.96l-1.37-1.37c-.4-.4-.92-.59-1.43-.59-.52 0-1.04.2-1.43.59L10.3 9.45l-7.72 7.72c-.78.78-.78 2.05 0 2.83L4 21.41c.39.39.9.59 1.41.59.51 0 1.02-.2 1.41-.59l7.78-7.78 2.81-2.81c.8-.78.8-2.07 0-2.86zM5.41 20L4 18.59l7.72-7.72 1.47 1.35L5.41 20z\"/>\n",
              "  </svg>\n",
              "      </button>\n",
              "      \n",
              "  <style>\n",
              "    .colab-df-container {\n",
              "      display:flex;\n",
              "      flex-wrap:wrap;\n",
              "      gap: 12px;\n",
              "    }\n",
              "\n",
              "    .colab-df-convert {\n",
              "      background-color: #E8F0FE;\n",
              "      border: none;\n",
              "      border-radius: 50%;\n",
              "      cursor: pointer;\n",
              "      display: none;\n",
              "      fill: #1967D2;\n",
              "      height: 32px;\n",
              "      padding: 0 0 0 0;\n",
              "      width: 32px;\n",
              "    }\n",
              "\n",
              "    .colab-df-convert:hover {\n",
              "      background-color: #E2EBFA;\n",
              "      box-shadow: 0px 1px 2px rgba(60, 64, 67, 0.3), 0px 1px 3px 1px rgba(60, 64, 67, 0.15);\n",
              "      fill: #174EA6;\n",
              "    }\n",
              "\n",
              "    [theme=dark] .colab-df-convert {\n",
              "      background-color: #3B4455;\n",
              "      fill: #D2E3FC;\n",
              "    }\n",
              "\n",
              "    [theme=dark] .colab-df-convert:hover {\n",
              "      background-color: #434B5C;\n",
              "      box-shadow: 0px 1px 3px 1px rgba(0, 0, 0, 0.15);\n",
              "      filter: drop-shadow(0px 1px 2px rgba(0, 0, 0, 0.3));\n",
              "      fill: #FFFFFF;\n",
              "    }\n",
              "  </style>\n",
              "\n",
              "      <script>\n",
              "        const buttonEl =\n",
              "          document.querySelector('#df-1414ca71-f3af-4bba-a7f8-716597c8f542 button.colab-df-convert');\n",
              "        buttonEl.style.display =\n",
              "          google.colab.kernel.accessAllowed ? 'block' : 'none';\n",
              "\n",
              "        async function convertToInteractive(key) {\n",
              "          const element = document.querySelector('#df-1414ca71-f3af-4bba-a7f8-716597c8f542');\n",
              "          const dataTable =\n",
              "            await google.colab.kernel.invokeFunction('convertToInteractive',\n",
              "                                                     [key], {});\n",
              "          if (!dataTable) return;\n",
              "\n",
              "          const docLinkHtml = 'Like what you see? Visit the ' +\n",
              "            '<a target=\"_blank\" href=https://colab.research.google.com/notebooks/data_table.ipynb>data table notebook</a>'\n",
              "            + ' to learn more about interactive tables.';\n",
              "          element.innerHTML = '';\n",
              "          dataTable['output_type'] = 'display_data';\n",
              "          await google.colab.output.renderOutput(dataTable, element);\n",
              "          const docLink = document.createElement('div');\n",
              "          docLink.innerHTML = docLinkHtml;\n",
              "          element.appendChild(docLink);\n",
              "        }\n",
              "      </script>\n",
              "    </div>\n",
              "  </div>\n",
              "  "
            ]
          },
          "metadata": {},
          "execution_count": 6
        }
      ]
    },
    {
      "cell_type": "code",
      "source": [
        "fig, ax = plt.subplots();\n",
        "metade_valores = df['expenses'].median()\n",
        "x_ini = df.index.min()\n",
        "x_final = df.index.max()\n",
        "\n",
        "ax.scatter(y=df['expenses'],x=df.index)\n",
        "ax.set_title('Valores dos seguros');\n",
        "ax.set_ylabel('')\n",
        "ax.hlines(y=metade_valores, xmin=x_ini, xmax=x_final,color='red',)\n",
        "plt.show()"
      ],
      "metadata": {
        "colab": {
          "base_uri": "https://localhost:8080/",
          "height": 504
        },
        "id": "FddBb4c5T_5-",
        "outputId": "2ec1af8b-934a-4413-f568-e97c795d4ecb"
      },
      "execution_count": 10,
      "outputs": [
        {
          "output_type": "display_data",
          "data": {
            "text/plain": [
              "<Figure size 800x550 with 1 Axes>"
            ],
            "image/png": "[encoded data removed]"
          },
          "metadata": {}
        }
      ]
    },
    {
      "cell_type": "code",
      "source": [
        "fig, ax = plt.subplots();\n",
        "\n",
        "sns.histplot(x=df_clean['children'], binwidth=1)\n",
        "ax.set_title('Number of Childrens');\n",
        "total_children = df_clean['children'].value_counts()\n",
        "\n",
        "def remove_spine(ax):\n",
        "  ax.spines['top'].set_visible(False)\n",
        "  ax.spines['right'].set_visible(False)\n",
        "\n",
        "for i in range(5):\n",
        "  alt = int(total_children[i])+25\n",
        "  ax.text(i+0.5, i+alt, total_children[i], va='center', ha='center', fontweight='bold',)\n",
        "\n",
        "remove_spine(ax)\n",
        "plt.tight_layout()\n",
        "plt.show()"
      ],
      "metadata": {
        "colab": {
          "base_uri": "https://localhost:8080/",
          "height": 551
        },
        "id": "k_T7hZXfXlxY",
        "outputId": "accced6e-eb31-4d42-e539-0fad17ece438"
      },
      "execution_count": 11,
      "outputs": [
        {
          "output_type": "display_data",
          "data": {
            "text/plain": [
              "<Figure size 800x550 with 1 Axes>"
            ],
            "image/png": "[encoded data removed]"
          },
          "metadata": {}
        }
      ]
    },
    {
      "cell_type": "markdown",
      "source": [],
      "metadata": {
        "id": "XqSgmsLWb11-"
      }
    },
    {
      "cell_type": "code",
      "source": [
        "fig, ax = plt.subplots();\n",
        "\n",
        "sns.histplot(x=df_clean['region'])\n",
        "ax.set_title('region');\n",
        "ax.set_ylabel('')\n",
        "total_children = df_clean['region'].value_counts()\n",
        "\n",
        "\n",
        "remove_spine(ax)\n",
        "plt.tight_layout()\n",
        "plt.show()"
      ],
      "metadata": {
        "colab": {
          "base_uri": "https://localhost:8080/",
          "height": 551
        },
        "id": "RFhqu0yZYyrW",
        "outputId": "88ba217b-b22e-4249-dc5e-6f97a39ae535"
      },
      "execution_count": 12,
      "outputs": [
        {
          "output_type": "display_data",
          "data": {
            "text/plain": [
              "<Figure size 800x550 with 1 Axes>"
            ],
            "image/png": "[encoded data removed]"
          },
          "metadata": {}
        }
      ]
    },
    {
      "cell_type": "code",
      "source": [
        "fig, ax = plt.subplots();\n",
        "\n",
        "sns.histplot(x=df_clean['age'])\n",
        "ax.set_title('age');\n",
        "ax.set_ylabel('')\n",
        "\n",
        "remove_spine(ax)\n",
        "plt.tight_layout()\n",
        "plt.show()"
      ],
      "metadata": {
        "colab": {
          "base_uri": "https://localhost:8080/",
          "height": 551
        },
        "id": "rphT-D2dY9Br",
        "outputId": "c4d08e78-6712-43b3-a98d-2e9665c90b9d"
      },
      "execution_count": 13,
      "outputs": [
        {
          "output_type": "display_data",
          "data": {
            "text/plain": [
              "<Figure size 800x550 with 1 Axes>"
            ],
            "image/png": "[encoded data removed]"
          },
          "metadata": {}
        }
      ]
    },
    {
      "cell_type": "code",
      "source": [
        "fig, ax = plt.subplots();\n",
        "\n",
        "sns.histplot(x=df_clean['bmi'],binwidth=1)\n",
        "ax.set_title('bmi');\n",
        "ax.set_ylabel('')\n",
        "\n",
        "remove_spine(ax)\n",
        "plt.tight_layout()\n",
        "plt.show()\n"
      ],
      "metadata": {
        "colab": {
          "base_uri": "https://localhost:8080/",
          "height": 551
        },
        "id": "67I4uXaqR0d1",
        "outputId": "79084aa9-b433-472f-ad8e-7d11c3b7fe1b"
      },
      "execution_count": 14,
      "outputs": [
        {
          "output_type": "display_data",
          "data": {
            "text/plain": [
              "<Figure size 800x550 with 1 Axes>"
            ],
            "image/png": "[encoded data removed]"
          },
          "metadata": {}
        }
      ]
    },
    {
      "cell_type": "code",
      "source": [
        "fig, ax = plt.subplots();\n",
        "sns.countplot(x=df_clean['sex'],)\n",
        "ax.set_title('Índice de cancelamento de clientes');\n",
        "ax.set_ylabel('')\n",
        "total_sex = df_clean['sex'].value_counts(ascending=True)\n",
        "\n",
        "for i in range(2):\n",
        "  alt = int(total_sex[i]+10)\n",
        "  ax.text(i, i+alt, total_sex[i], va='center', ha='center', fontweight='bold',)\n"
      ],
      "metadata": {
        "colab": {
          "base_uri": "https://localhost:8080/",
          "height": 524
        },
        "id": "Q4HoPcCTTmre",
        "outputId": "823c5740-633b-4801-807b-beea6b4232b7"
      },
      "execution_count": 15,
      "outputs": [
        {
          "output_type": "display_data",
          "data": {
            "text/plain": [
              "<Figure size 800x550 with 1 Axes>"
            ],
            "image/png": "[encoded data removed]"
          },
          "metadata": {}
        }
      ]
    },
    {
      "cell_type": "code",
      "source": [
        "fig, ax = plt.subplots();\n",
        "sns.countplot(x=df_clean['smoker'])\n",
        "ax.set_title('Smokers');\n",
        "ax.set_ylabel('')\n",
        "total_sex = df_clean['smoker'].value_counts(ascending=True)\n",
        "\n",
        "for i in range(2):\n",
        "  alt = int(total_sex[i]+15)\n",
        "  ax.text(i, i+alt, total_sex[i], va='center', ha='center', fontweight='bold',)"
      ],
      "metadata": {
        "colab": {
          "base_uri": "https://localhost:8080/",
          "height": 524
        },
        "id": "AUJry95ceUZx",
        "outputId": "d1565b23-0d9e-40d5-8e87-de98d91db50d"
      },
      "execution_count": 16,
      "outputs": [
        {
          "output_type": "display_data",
          "data": {
            "text/plain": [
              "<Figure size 800x550 with 1 Axes>"
            ],
            "image/png": "[encoded data removed]"
          },
          "metadata": {}
        }
      ]
    },
    {
      "cell_type": "code",
      "source": [
        "df_clean['sex'] = (df_clean['sex']=='male').astype(int)\n",
        "df_clean['smoker'] = (df_clean['smoker']=='yes').astype(int)\n",
        "df_clean.head()"
      ],
      "metadata": {
        "colab": {
          "base_uri": "https://localhost:8080/",
          "height": 206
        },
        "id": "-DMjiMnVR7M5",
        "outputId": "98d94b04-e31f-4e4c-eba4-6a0d6815f162"
      },
      "execution_count": 111,
      "outputs": [
        {
          "output_type": "execute_result",
          "data": {
            "text/plain": [
              "   age  sex   bmi  children  smoker  expenses\n",
              "0   19    0  27.9         0       0  16884.92\n",
              "1   18    0  33.8         1       0   1725.55\n",
              "2   28    0  33.0         3       0   4449.46\n",
              "3   33    0  22.7         0       0  21984.47\n",
              "4   32    0  28.9         0       0   3866.86"
            ],
            "text/html": [
              "\n",
              "  <div id=\"df-f108e31e-e148-4d09-853c-5b1d48614644\">\n",
              "    <div class=\"colab-df-container\">\n",
              "      <div>\n",
              "<style scoped>\n",
              "    .dataframe tbody tr th:only-of-type {\n",
              "        vertical-align: middle;\n",
              "    }\n",
              "\n",
              "    .dataframe tbody tr th {\n",
              "        vertical-align: top;\n",
              "    }\n",
              "\n",
              "    .dataframe thead th {\n",
              "        text-align: right;\n",
              "    }\n",
              "</style>\n",
              "<table border=\"1\" class=\"dataframe\">\n",
              "  <thead>\n",
              "    <tr style=\"text-align: right;\">\n",
              "      <th></th>\n",
              "      <th>age</th>\n",
              "      <th>sex</th>\n",
              "      <th>bmi</th>\n",
              "      <th>children</th>\n",
              "      <th>smoker</th>\n",
              "      <th>expenses</th>\n",
              "    </tr>\n",
              "  </thead>\n",
              "  <tbody>\n",
              "    <tr>\n",
              "      <th>0</th>\n",
              "      <td>19</td>\n",
              "      <td>0</td>\n",
              "      <td>27.9</td>\n",
              "      <td>0</td>\n",
              "      <td>0</td>\n",
              "      <td>16884.92</td>\n",
              "    </tr>\n",
              "    <tr>\n",
              "      <th>1</th>\n",
              "      <td>18</td>\n",
              "      <td>0</td>\n",
              "      <td>33.8</td>\n",
              "      <td>1</td>\n",
              "      <td>0</td>\n",
              "      <td>1725.55</td>\n",
              "    </tr>\n",
              "    <tr>\n",
              "      <th>2</th>\n",
              "      <td>28</td>\n",
              "      <td>0</td>\n",
              "      <td>33.0</td>\n",
              "      <td>3</td>\n",
              "      <td>0</td>\n",
              "      <td>4449.46</td>\n",
              "    </tr>\n",
              "    <tr>\n",
              "      <th>3</th>\n",
              "      <td>33</td>\n",
              "      <td>0</td>\n",
              "      <td>22.7</td>\n",
              "      <td>0</td>\n",
              "      <td>0</td>\n",
              "      <td>21984.47</td>\n",
              "    </tr>\n",
              "    <tr>\n",
              "      <th>4</th>\n",
              "      <td>32</td>\n",
              "      <td>0</td>\n",
              "      <td>28.9</td>\n",
              "      <td>0</td>\n",
              "      <td>0</td>\n",
              "      <td>3866.86</td>\n",
              "    </tr>\n",
              "  </tbody>\n",
              "</table>\n",
              "</div>\n",
              "      <button class=\"colab-df-convert\" onclick=\"convertToInteractive('df-f108e31e-e148-4d09-853c-5b1d48614644')\"\n",
              "              title=\"Convert this dataframe to an interactive table.\"\n",
              "              style=\"display:none;\">\n",
              "        \n",
              "  <svg xmlns=\"http://www.w3.org/2000/svg\" height=\"24px\"viewBox=\"0 0 24 24\"\n",
              "       width=\"24px\">\n",
              "    <path d=\"M0 0h24v24H0V0z\" fill=\"none\"/>\n",
              "    <path d=\"M18.56 5.44l.94 2.06.94-2.06 2.06-.94-2.06-.94-.94-2.06-.94 2.06-2.06.94zm-11 1L8.5 8.5l.94-2.06 2.06-.94-2.06-.94L8.5 2.5l-.94 2.06-2.06.94zm10 10l.94 2.06.94-2.06 2.06-.94-2.06-.94-.94-2.06-.94 2.06-2.06.94z\"/><path d=\"M17.41 7.96l-1.37-1.37c-.4-.4-.92-.59-1.43-.59-.52 0-1.04.2-1.43.59L10.3 9.45l-7.72 7.72c-.78.78-.78 2.05 0 2.83L4 21.41c.39.39.9.59 1.41.59.51 0 1.02-.2 1.41-.59l7.78-7.78 2.81-2.81c.8-.78.8-2.07 0-2.86zM5.41 20L4 18.59l7.72-7.72 1.47 1.35L5.41 20z\"/>\n",
              "  </svg>\n",
              "      </button>\n",
              "      \n",
              "  <style>\n",
              "    .colab-df-container {\n",
              "      display:flex;\n",
              "      flex-wrap:wrap;\n",
              "      gap: 12px;\n",
              "    }\n",
              "\n",
              "    .colab-df-convert {\n",
              "      background-color: #E8F0FE;\n",
              "      border: none;\n",
              "      border-radius: 50%;\n",
              "      cursor: pointer;\n",
              "      display: none;\n",
              "      fill: #1967D2;\n",
              "      height: 32px;\n",
              "      padding: 0 0 0 0;\n",
              "      width: 32px;\n",
              "    }\n",
              "\n",
              "    .colab-df-convert:hover {\n",
              "      background-color: #E2EBFA;\n",
              "      box-shadow: 0px 1px 2px rgba(60, 64, 67, 0.3), 0px 1px 3px 1px rgba(60, 64, 67, 0.15);\n",
              "      fill: #174EA6;\n",
              "    }\n",
              "\n",
              "    [theme=dark] .colab-df-convert {\n",
              "      background-color: #3B4455;\n",
              "      fill: #D2E3FC;\n",
              "    }\n",
              "\n",
              "    [theme=dark] .colab-df-convert:hover {\n",
              "      background-color: #434B5C;\n",
              "      box-shadow: 0px 1px 3px 1px rgba(0, 0, 0, 0.15);\n",
              "      filter: drop-shadow(0px 1px 2px rgba(0, 0, 0, 0.3));\n",
              "      fill: #FFFFFF;\n",
              "    }\n",
              "  </style>\n",
              "\n",
              "      <script>\n",
              "        const buttonEl =\n",
              "          document.querySelector('#df-f108e31e-e148-4d09-853c-5b1d48614644 button.colab-df-convert');\n",
              "        buttonEl.style.display =\n",
              "          google.colab.kernel.accessAllowed ? 'block' : 'none';\n",
              "\n",
              "        async function convertToInteractive(key) {\n",
              "          const element = document.querySelector('#df-f108e31e-e148-4d09-853c-5b1d48614644');\n",
              "          const dataTable =\n",
              "            await google.colab.kernel.invokeFunction('convertToInteractive',\n",
              "                                                     [key], {});\n",
              "          if (!dataTable) return;\n",
              "\n",
              "          const docLinkHtml = 'Like what you see? Visit the ' +\n",
              "            '<a target=\"_blank\" href=https://colab.research.google.com/notebooks/data_table.ipynb>data table notebook</a>'\n",
              "            + ' to learn more about interactive tables.';\n",
              "          element.innerHTML = '';\n",
              "          dataTable['output_type'] = 'display_data';\n",
              "          await google.colab.output.renderOutput(dataTable, element);\n",
              "          const docLink = document.createElement('div');\n",
              "          docLink.innerHTML = docLinkHtml;\n",
              "          element.appendChild(docLink);\n",
              "        }\n",
              "      </script>\n",
              "    </div>\n",
              "  </div>\n",
              "  "
            ]
          },
          "metadata": {},
          "execution_count": 111
        }
      ]
    },
    {
      "cell_type": "code",
      "source": [
        "corr = df_clean.corr()\n",
        "corr= corr.round(2)\n",
        "\n",
        "# Create a figure and an Axes object\n",
        "fig, ax = plt.subplots()\n",
        "\n",
        "# Plot the heatmap\n",
        "sns.heatmap(corr, cmap='RdYlGn', annot=True, ax=ax,)\n",
        "\n",
        "# Set the title\n",
        "ax.set_title(\"Correlation Matrix\")\n",
        "\n",
        "# Show the plot\n",
        "plt.tight_layout()\n",
        "plt.show()"
      ],
      "metadata": {
        "colab": {
          "base_uri": "https://localhost:8080/",
          "height": 551
        },
        "id": "zLUc1Mpkdgeq",
        "outputId": "e7956ab5-7768-42ef-d731-3d33e7ca7157"
      },
      "execution_count": 60,
      "outputs": [
        {
          "output_type": "display_data",
          "data": {
            "text/plain": [
              "<Figure size 800x550 with 2 Axes>"
            ],
            "image/png": "[encoded data removed]"
          },
          "metadata": {}
        }
      ]
    },
    {
      "cell_type": "code",
      "source": [
        "train, test = train_test_split(df_clean, test_size=0.3, random_state=42)\n",
        "\n",
        "\n",
        "# Exibir o tamanho dos conjuntos de treinamento e teste\n",
        "print('Train:', train.shape)\n",
        "print('Test:', test.shape)\n",
        "train.head()"
      ],
      "metadata": {
        "colab": {
          "base_uri": "https://localhost:8080/",
          "height": 243
        },
        "id": "fBpii-WQhRGn",
        "outputId": "2091a4a3-fc25-4f0f-f9c1-7a1caeada7cd"
      },
      "execution_count": 117,
      "outputs": [
        {
          "output_type": "stream",
          "name": "stdout",
          "text": [
            "Train: (936, 7)\n",
            "Test: (402, 7)\n"
          ]
        },
        {
          "output_type": "execute_result",
          "data": {
            "text/plain": [
              "     age     sex   bmi  children smoker     region  expenses\n",
              "332   61  female  31.2         0     no  northwest  13429.04\n",
              "355   46    male  27.6         0     no  southwest  24603.05\n",
              "138   54  female  31.9         3     no  southeast  27322.73\n",
              "381   55    male  30.7         0    yes  northeast  42303.69\n",
              "292   25    male  45.5         2    yes  southeast  42112.24"
            ],
            "text/html": [
              "\n",
              "  <div id=\"df-92bb7d4c-792c-4fc0-a110-2b7d75d565cd\">\n",
              "    <div class=\"colab-df-container\">\n",
              "      <div>\n",
              "<style scoped>\n",
              "    .dataframe tbody tr th:only-of-type {\n",
              "        vertical-align: middle;\n",
              "    }\n",
              "\n",
              "    .dataframe tbody tr th {\n",
              "        vertical-align: top;\n",
              "    }\n",
              "\n",
              "    .dataframe thead th {\n",
              "        text-align: right;\n",
              "    }\n",
              "</style>\n",
              "<table border=\"1\" class=\"dataframe\">\n",
              "  <thead>\n",
              "    <tr style=\"text-align: right;\">\n",
              "      <th></th>\n",
              "      <th>age</th>\n",
              "      <th>sex</th>\n",
              "      <th>bmi</th>\n",
              "      <th>children</th>\n",
              "      <th>smoker</th>\n",
              "      <th>region</th>\n",
              "      <th>expenses</th>\n",
              "    </tr>\n",
              "  </thead>\n",
              "  <tbody>\n",
              "    <tr>\n",
              "      <th>332</th>\n",
              "      <td>61</td>\n",
              "      <td>female</td>\n",
              "      <td>31.2</td>\n",
              "      <td>0</td>\n",
              "      <td>no</td>\n",
              "      <td>northwest</td>\n",
              "      <td>13429.04</td>\n",
              "    </tr>\n",
              "    <tr>\n",
              "      <th>355</th>\n",
              "      <td>46</td>\n",
              "      <td>male</td>\n",
              "      <td>27.6</td>\n",
              "      <td>0</td>\n",
              "      <td>no</td>\n",
              "      <td>southwest</td>\n",
              "      <td>24603.05</td>\n",
              "    </tr>\n",
              "    <tr>\n",
              "      <th>138</th>\n",
              "      <td>54</td>\n",
              "      <td>female</td>\n",
              "      <td>31.9</td>\n",
              "      <td>3</td>\n",
              "      <td>no</td>\n",
              "      <td>southeast</td>\n",
              "      <td>27322.73</td>\n",
              "    </tr>\n",
              "    <tr>\n",
              "      <th>381</th>\n",
              "      <td>55</td>\n",
              "      <td>male</td>\n",
              "      <td>30.7</td>\n",
              "      <td>0</td>\n",
              "      <td>yes</td>\n",
              "      <td>northeast</td>\n",
              "      <td>42303.69</td>\n",
              "    </tr>\n",
              "    <tr>\n",
              "      <th>292</th>\n",
              "      <td>25</td>\n",
              "      <td>male</td>\n",
              "      <td>45.5</td>\n",
              "      <td>2</td>\n",
              "      <td>yes</td>\n",
              "      <td>southeast</td>\n",
              "      <td>42112.24</td>\n",
              "    </tr>\n",
              "  </tbody>\n",
              "</table>\n",
              "</div>\n",
              "      <button class=\"colab-df-convert\" onclick=\"convertToInteractive('df-92bb7d4c-792c-4fc0-a110-2b7d75d565cd')\"\n",
              "              title=\"Convert this dataframe to an interactive table.\"\n",
              "              style=\"display:none;\">\n",
              "        \n",
              "  <svg xmlns=\"http://www.w3.org/2000/svg\" height=\"24px\"viewBox=\"0 0 24 24\"\n",
              "       width=\"24px\">\n",
              "    <path d=\"M0 0h24v24H0V0z\" fill=\"none\"/>\n",
              "    <path d=\"M18.56 5.44l.94 2.06.94-2.06 2.06-.94-2.06-.94-.94-2.06-.94 2.06-2.06.94zm-11 1L8.5 8.5l.94-2.06 2.06-.94-2.06-.94L8.5 2.5l-.94 2.06-2.06.94zm10 10l.94 2.06.94-2.06 2.06-.94-2.06-.94-.94-2.06-.94 2.06-2.06.94z\"/><path d=\"M17.41 7.96l-1.37-1.37c-.4-.4-.92-.59-1.43-.59-.52 0-1.04.2-1.43.59L10.3 9.45l-7.72 7.72c-.78.78-.78 2.05 0 2.83L4 21.41c.39.39.9.59 1.41.59.51 0 1.02-.2 1.41-.59l7.78-7.78 2.81-2.81c.8-.78.8-2.07 0-2.86zM5.41 20L4 18.59l7.72-7.72 1.47 1.35L5.41 20z\"/>\n",
              "  </svg>\n",
              "      </button>\n",
              "      \n",
              "  <style>\n",
              "    .colab-df-container {\n",
              "      display:flex;\n",
              "      flex-wrap:wrap;\n",
              "      gap: 12px;\n",
              "    }\n",
              "\n",
              "    .colab-df-convert {\n",
              "      background-color: #E8F0FE;\n",
              "      border: none;\n",
              "      border-radius: 50%;\n",
              "      cursor: pointer;\n",
              "      display: none;\n",
              "      fill: #1967D2;\n",
              "      height: 32px;\n",
              "      padding: 0 0 0 0;\n",
              "      width: 32px;\n",
              "    }\n",
              "\n",
              "    .colab-df-convert:hover {\n",
              "      background-color: #E2EBFA;\n",
              "      box-shadow: 0px 1px 2px rgba(60, 64, 67, 0.3), 0px 1px 3px 1px rgba(60, 64, 67, 0.15);\n",
              "      fill: #174EA6;\n",
              "    }\n",
              "\n",
              "    [theme=dark] .colab-df-convert {\n",
              "      background-color: #3B4455;\n",
              "      fill: #D2E3FC;\n",
              "    }\n",
              "\n",
              "    [theme=dark] .colab-df-convert:hover {\n",
              "      background-color: #434B5C;\n",
              "      box-shadow: 0px 1px 3px 1px rgba(0, 0, 0, 0.15);\n",
              "      filter: drop-shadow(0px 1px 2px rgba(0, 0, 0, 0.3));\n",
              "      fill: #FFFFFF;\n",
              "    }\n",
              "  </style>\n",
              "\n",
              "      <script>\n",
              "        const buttonEl =\n",
              "          document.querySelector('#df-92bb7d4c-792c-4fc0-a110-2b7d75d565cd button.colab-df-convert');\n",
              "        buttonEl.style.display =\n",
              "          google.colab.kernel.accessAllowed ? 'block' : 'none';\n",
              "\n",
              "        async function convertToInteractive(key) {\n",
              "          const element = document.querySelector('#df-92bb7d4c-792c-4fc0-a110-2b7d75d565cd');\n",
              "          const dataTable =\n",
              "            await google.colab.kernel.invokeFunction('convertToInteractive',\n",
              "                                                     [key], {});\n",
              "          if (!dataTable) return;\n",
              "\n",
              "          const docLinkHtml = 'Like what you see? Visit the ' +\n",
              "            '<a target=\"_blank\" href=https://colab.research.google.com/notebooks/data_table.ipynb>data table notebook</a>'\n",
              "            + ' to learn more about interactive tables.';\n",
              "          element.innerHTML = '';\n",
              "          dataTable['output_type'] = 'display_data';\n",
              "          await google.colab.output.renderOutput(dataTable, element);\n",
              "          const docLink = document.createElement('div');\n",
              "          docLink.innerHTML = docLinkHtml;\n",
              "          element.appendChild(docLink);\n",
              "        }\n",
              "      </script>\n",
              "    </div>\n",
              "  </div>\n",
              "  "
            ]
          },
          "metadata": {},
          "execution_count": 117
        }
      ]
    },
    {
      "cell_type": "code",
      "source": [
        "s = setup(data=train,target = 'expenses')"
      ],
      "metadata": {
        "colab": {
          "base_uri": "https://localhost:8080/",
          "height": 770
        },
        "id": "Ps7jplgLjzYq",
        "outputId": "9bedc797-d779-41ca-bca4-3db0ea5b75c8"
      },
      "execution_count": 118,
      "outputs": [
        {
          "output_type": "display_data",
          "data": {
            "text/plain": [
              "<pandas.io.formats.style.Styler at 0x7f74a523d840>"
            ],
            "text/html": [
              "<style type=\"text/css\">\n",
              "#T_c60d6_row10_col1 {\n",
              "  background-color: lightgreen;\n",
              "}\n",
              "</style>\n",
              "<table id=\"T_c60d6\" class=\"dataframe\">\n",
              "  <thead>\n",
              "    <tr>\n",
              "      <th class=\"blank level0\" >&nbsp;</th>\n",
              "      <th id=\"T_c60d6_level0_col0\" class=\"col_heading level0 col0\" >Description</th>\n",
              "      <th id=\"T_c60d6_level0_col1\" class=\"col_heading level0 col1\" >Value</th>\n",
              "    </tr>\n",
              "  </thead>\n",
              "  <tbody>\n",
              "    <tr>\n",
              "      <th id=\"T_c60d6_level0_row0\" class=\"row_heading level0 row0\" >0</th>\n",
              "      <td id=\"T_c60d6_row0_col0\" class=\"data row0 col0\" >Session id</td>\n",
              "      <td id=\"T_c60d6_row0_col1\" class=\"data row0 col1\" >1873</td>\n",
              "    </tr>\n",
              "    <tr>\n",
              "      <th id=\"T_c60d6_level0_row1\" class=\"row_heading level0 row1\" >1</th>\n",
              "      <td id=\"T_c60d6_row1_col0\" class=\"data row1 col0\" >Target</td>\n",
              "      <td id=\"T_c60d6_row1_col1\" class=\"data row1 col1\" >expenses</td>\n",
              "    </tr>\n",
              "    <tr>\n",
              "      <th id=\"T_c60d6_level0_row2\" class=\"row_heading level0 row2\" >2</th>\n",
              "      <td id=\"T_c60d6_row2_col0\" class=\"data row2 col0\" >Target type</td>\n",
              "      <td id=\"T_c60d6_row2_col1\" class=\"data row2 col1\" >Regression</td>\n",
              "    </tr>\n",
              "    <tr>\n",
              "      <th id=\"T_c60d6_level0_row3\" class=\"row_heading level0 row3\" >3</th>\n",
              "      <td id=\"T_c60d6_row3_col0\" class=\"data row3 col0\" >Original data shape</td>\n",
              "      <td id=\"T_c60d6_row3_col1\" class=\"data row3 col1\" >(936, 7)</td>\n",
              "    </tr>\n",
              "    <tr>\n",
              "      <th id=\"T_c60d6_level0_row4\" class=\"row_heading level0 row4\" >4</th>\n",
              "      <td id=\"T_c60d6_row4_col0\" class=\"data row4 col0\" >Transformed data shape</td>\n",
              "      <td id=\"T_c60d6_row4_col1\" class=\"data row4 col1\" >(936, 10)</td>\n",
              "    </tr>\n",
              "    <tr>\n",
              "      <th id=\"T_c60d6_level0_row5\" class=\"row_heading level0 row5\" >5</th>\n",
              "      <td id=\"T_c60d6_row5_col0\" class=\"data row5 col0\" >Transformed train set shape</td>\n",
              "      <td id=\"T_c60d6_row5_col1\" class=\"data row5 col1\" >(655, 10)</td>\n",
              "    </tr>\n",
              "    <tr>\n",
              "      <th id=\"T_c60d6_level0_row6\" class=\"row_heading level0 row6\" >6</th>\n",
              "      <td id=\"T_c60d6_row6_col0\" class=\"data row6 col0\" >Transformed test set shape</td>\n",
              "      <td id=\"T_c60d6_row6_col1\" class=\"data row6 col1\" >(281, 10)</td>\n",
              "    </tr>\n",
              "    <tr>\n",
              "      <th id=\"T_c60d6_level0_row7\" class=\"row_heading level0 row7\" >7</th>\n",
              "      <td id=\"T_c60d6_row7_col0\" class=\"data row7 col0\" >Ordinal features</td>\n",
              "      <td id=\"T_c60d6_row7_col1\" class=\"data row7 col1\" >2</td>\n",
              "    </tr>\n",
              "    <tr>\n",
              "      <th id=\"T_c60d6_level0_row8\" class=\"row_heading level0 row8\" >8</th>\n",
              "      <td id=\"T_c60d6_row8_col0\" class=\"data row8 col0\" >Numeric features</td>\n",
              "      <td id=\"T_c60d6_row8_col1\" class=\"data row8 col1\" >3</td>\n",
              "    </tr>\n",
              "    <tr>\n",
              "      <th id=\"T_c60d6_level0_row9\" class=\"row_heading level0 row9\" >9</th>\n",
              "      <td id=\"T_c60d6_row9_col0\" class=\"data row9 col0\" >Categorical features</td>\n",
              "      <td id=\"T_c60d6_row9_col1\" class=\"data row9 col1\" >3</td>\n",
              "    </tr>\n",
              "    <tr>\n",
              "      <th id=\"T_c60d6_level0_row10\" class=\"row_heading level0 row10\" >10</th>\n",
              "      <td id=\"T_c60d6_row10_col0\" class=\"data row10 col0\" >Preprocess</td>\n",
              "      <td id=\"T_c60d6_row10_col1\" class=\"data row10 col1\" >True</td>\n",
              "    </tr>\n",
              "    <tr>\n",
              "      <th id=\"T_c60d6_level0_row11\" class=\"row_heading level0 row11\" >11</th>\n",
              "      <td id=\"T_c60d6_row11_col0\" class=\"data row11 col0\" >Imputation type</td>\n",
              "      <td id=\"T_c60d6_row11_col1\" class=\"data row11 col1\" >simple</td>\n",
              "    </tr>\n",
              "    <tr>\n",
              "      <th id=\"T_c60d6_level0_row12\" class=\"row_heading level0 row12\" >12</th>\n",
              "      <td id=\"T_c60d6_row12_col0\" class=\"data row12 col0\" >Numeric imputation</td>\n",
              "      <td id=\"T_c60d6_row12_col1\" class=\"data row12 col1\" >mean</td>\n",
              "    </tr>\n",
              "    <tr>\n",
              "      <th id=\"T_c60d6_level0_row13\" class=\"row_heading level0 row13\" >13</th>\n",
              "      <td id=\"T_c60d6_row13_col0\" class=\"data row13 col0\" >Categorical imputation</td>\n",
              "      <td id=\"T_c60d6_row13_col1\" class=\"data row13 col1\" >mode</td>\n",
              "    </tr>\n",
              "    <tr>\n",
              "      <th id=\"T_c60d6_level0_row14\" class=\"row_heading level0 row14\" >14</th>\n",
              "      <td id=\"T_c60d6_row14_col0\" class=\"data row14 col0\" >Maximum one-hot encoding</td>\n",
              "      <td id=\"T_c60d6_row14_col1\" class=\"data row14 col1\" >25</td>\n",
              "    </tr>\n",
              "    <tr>\n",
              "      <th id=\"T_c60d6_level0_row15\" class=\"row_heading level0 row15\" >15</th>\n",
              "      <td id=\"T_c60d6_row15_col0\" class=\"data row15 col0\" >Encoding method</td>\n",
              "      <td id=\"T_c60d6_row15_col1\" class=\"data row15 col1\" >None</td>\n",
              "    </tr>\n",
              "    <tr>\n",
              "      <th id=\"T_c60d6_level0_row16\" class=\"row_heading level0 row16\" >16</th>\n",
              "      <td id=\"T_c60d6_row16_col0\" class=\"data row16 col0\" >Fold Generator</td>\n",
              "      <td id=\"T_c60d6_row16_col1\" class=\"data row16 col1\" >KFold</td>\n",
              "    </tr>\n",
              "    <tr>\n",
              "      <th id=\"T_c60d6_level0_row17\" class=\"row_heading level0 row17\" >17</th>\n",
              "      <td id=\"T_c60d6_row17_col0\" class=\"data row17 col0\" >Fold Number</td>\n",
              "      <td id=\"T_c60d6_row17_col1\" class=\"data row17 col1\" >10</td>\n",
              "    </tr>\n",
              "    <tr>\n",
              "      <th id=\"T_c60d6_level0_row18\" class=\"row_heading level0 row18\" >18</th>\n",
              "      <td id=\"T_c60d6_row18_col0\" class=\"data row18 col0\" >CPU Jobs</td>\n",
              "      <td id=\"T_c60d6_row18_col1\" class=\"data row18 col1\" >-1</td>\n",
              "    </tr>\n",
              "    <tr>\n",
              "      <th id=\"T_c60d6_level0_row19\" class=\"row_heading level0 row19\" >19</th>\n",
              "      <td id=\"T_c60d6_row19_col0\" class=\"data row19 col0\" >Use GPU</td>\n",
              "      <td id=\"T_c60d6_row19_col1\" class=\"data row19 col1\" >False</td>\n",
              "    </tr>\n",
              "    <tr>\n",
              "      <th id=\"T_c60d6_level0_row20\" class=\"row_heading level0 row20\" >20</th>\n",
              "      <td id=\"T_c60d6_row20_col0\" class=\"data row20 col0\" >Log Experiment</td>\n",
              "      <td id=\"T_c60d6_row20_col1\" class=\"data row20 col1\" >False</td>\n",
              "    </tr>\n",
              "    <tr>\n",
              "      <th id=\"T_c60d6_level0_row21\" class=\"row_heading level0 row21\" >21</th>\n",
              "      <td id=\"T_c60d6_row21_col0\" class=\"data row21 col0\" >Experiment Name</td>\n",
              "      <td id=\"T_c60d6_row21_col1\" class=\"data row21 col1\" >reg-default-name</td>\n",
              "    </tr>\n",
              "    <tr>\n",
              "      <th id=\"T_c60d6_level0_row22\" class=\"row_heading level0 row22\" >22</th>\n",
              "      <td id=\"T_c60d6_row22_col0\" class=\"data row22 col0\" >USI</td>\n",
              "      <td id=\"T_c60d6_row22_col1\" class=\"data row22 col1\" >91ed</td>\n",
              "    </tr>\n",
              "  </tbody>\n",
              "</table>\n"
            ]
          },
          "metadata": {}
        }
      ]
    },
    {
      "cell_type": "code",
      "source": [
        "best = compare_models()"
      ],
      "metadata": {
        "colab": {
          "base_uri": "https://localhost:8080/",
          "height": 645,
          "referenced_widgets": [
            "82cf3612da2b4326b9d7bff523fb0081",
            "fb71fa76195b41feb457cdd422cfb4ae",
            "28926f46d2b94e6dab037a1e1c861897",
            "facaa3a42a98441b9d0af9bcca8c0eea",
            "598ae67f85d54a7c93b670c2d58bc3fb",
            "3fca5e3c5dc549bdb19087f5f93670a0",
            "ba096acc4c96448e93432f829fa3cb6e",
            "18fbf6db73a14aef8337294fb23c6859",
            "aae9bca2329344bfb06bd1591013318c",
            "44d1e92be4b445abbed5b520eca5954e",
            "bc8f1b856ad84a3281219bbc2095853f"
          ]
        },
        "id": "6PbNfzfisxdW",
        "outputId": "bb463d2d-973c-4856-f753-e04be48eda48"
      },
      "execution_count": 119,
      "outputs": [
        {
          "output_type": "display_data",
          "data": {
            "text/plain": [
              "<IPython.core.display.HTML object>"
            ],
            "text/html": []
          },
          "metadata": {}
        },
        {
          "output_type": "display_data",
          "data": {
            "text/plain": [
              "<pandas.io.formats.style.Styler at 0x7f7486d1c7c0>"
            ],
            "text/html": [
              "<style type=\"text/css\">\n",
              "#T_d4e2c th {\n",
              "  text-align: left;\n",
              "}\n",
              "#T_d4e2c_row0_col0, #T_d4e2c_row0_col6, #T_d4e2c_row1_col0, #T_d4e2c_row1_col1, #T_d4e2c_row1_col2, #T_d4e2c_row1_col3, #T_d4e2c_row1_col4, #T_d4e2c_row1_col5, #T_d4e2c_row1_col6, #T_d4e2c_row2_col0, #T_d4e2c_row2_col1, #T_d4e2c_row2_col2, #T_d4e2c_row2_col3, #T_d4e2c_row2_col4, #T_d4e2c_row2_col5, #T_d4e2c_row2_col6, #T_d4e2c_row3_col0, #T_d4e2c_row3_col1, #T_d4e2c_row3_col2, #T_d4e2c_row3_col3, #T_d4e2c_row3_col4, #T_d4e2c_row3_col5, #T_d4e2c_row3_col6, #T_d4e2c_row4_col0, #T_d4e2c_row4_col1, #T_d4e2c_row4_col2, #T_d4e2c_row4_col3, #T_d4e2c_row4_col4, #T_d4e2c_row4_col5, #T_d4e2c_row4_col6, #T_d4e2c_row5_col0, #T_d4e2c_row5_col1, #T_d4e2c_row5_col2, #T_d4e2c_row5_col3, #T_d4e2c_row5_col4, #T_d4e2c_row5_col5, #T_d4e2c_row5_col6, #T_d4e2c_row6_col0, #T_d4e2c_row6_col1, #T_d4e2c_row6_col2, #T_d4e2c_row6_col3, #T_d4e2c_row6_col4, #T_d4e2c_row6_col5, #T_d4e2c_row6_col6, #T_d4e2c_row7_col0, #T_d4e2c_row7_col1, #T_d4e2c_row7_col2, #T_d4e2c_row7_col3, #T_d4e2c_row7_col4, #T_d4e2c_row7_col5, #T_d4e2c_row7_col6, #T_d4e2c_row8_col0, #T_d4e2c_row8_col1, #T_d4e2c_row8_col2, #T_d4e2c_row8_col3, #T_d4e2c_row8_col4, #T_d4e2c_row8_col5, #T_d4e2c_row8_col6, #T_d4e2c_row9_col0, #T_d4e2c_row9_col1, #T_d4e2c_row9_col2, #T_d4e2c_row9_col3, #T_d4e2c_row9_col4, #T_d4e2c_row9_col5, #T_d4e2c_row9_col6, #T_d4e2c_row10_col0, #T_d4e2c_row10_col1, #T_d4e2c_row10_col2, #T_d4e2c_row10_col3, #T_d4e2c_row10_col4, #T_d4e2c_row10_col5, #T_d4e2c_row10_col6, #T_d4e2c_row11_col0, #T_d4e2c_row11_col1, #T_d4e2c_row11_col2, #T_d4e2c_row11_col3, #T_d4e2c_row11_col4, #T_d4e2c_row11_col5, #T_d4e2c_row11_col6, #T_d4e2c_row12_col0, #T_d4e2c_row12_col1, #T_d4e2c_row12_col2, #T_d4e2c_row12_col3, #T_d4e2c_row12_col4, #T_d4e2c_row12_col5, #T_d4e2c_row13_col0, #T_d4e2c_row13_col1, #T_d4e2c_row13_col2, #T_d4e2c_row13_col3, #T_d4e2c_row13_col4, #T_d4e2c_row13_col5, #T_d4e2c_row13_col6, #T_d4e2c_row14_col0, #T_d4e2c_row14_col1, #T_d4e2c_row14_col2, #T_d4e2c_row14_col3, #T_d4e2c_row14_col4, #T_d4e2c_row14_col5, #T_d4e2c_row14_col6, #T_d4e2c_row15_col0, #T_d4e2c_row15_col1, #T_d4e2c_row15_col2, #T_d4e2c_row15_col3, #T_d4e2c_row15_col4, #T_d4e2c_row15_col5, #T_d4e2c_row15_col6, #T_d4e2c_row16_col0, #T_d4e2c_row16_col1, #T_d4e2c_row16_col2, #T_d4e2c_row16_col3, #T_d4e2c_row16_col4, #T_d4e2c_row16_col5, #T_d4e2c_row16_col6, #T_d4e2c_row17_col0, #T_d4e2c_row17_col1, #T_d4e2c_row17_col2, #T_d4e2c_row17_col3, #T_d4e2c_row17_col4, #T_d4e2c_row17_col5, #T_d4e2c_row17_col6, #T_d4e2c_row18_col0, #T_d4e2c_row18_col1, #T_d4e2c_row18_col2, #T_d4e2c_row18_col3, #T_d4e2c_row18_col4, #T_d4e2c_row18_col5, #T_d4e2c_row18_col6 {\n",
              "  text-align: left;\n",
              "}\n",
              "#T_d4e2c_row0_col1, #T_d4e2c_row0_col2, #T_d4e2c_row0_col3, #T_d4e2c_row0_col4, #T_d4e2c_row0_col5, #T_d4e2c_row12_col6 {\n",
              "  text-align: left;\n",
              "  background-color: yellow;\n",
              "}\n",
              "#T_d4e2c_row0_col7, #T_d4e2c_row1_col7, #T_d4e2c_row2_col7, #T_d4e2c_row3_col7, #T_d4e2c_row4_col7, #T_d4e2c_row5_col7, #T_d4e2c_row6_col7, #T_d4e2c_row7_col7, #T_d4e2c_row8_col7, #T_d4e2c_row9_col7, #T_d4e2c_row11_col7, #T_d4e2c_row12_col7, #T_d4e2c_row13_col7, #T_d4e2c_row14_col7, #T_d4e2c_row15_col7, #T_d4e2c_row16_col7, #T_d4e2c_row17_col7, #T_d4e2c_row18_col7 {\n",
              "  text-align: left;\n",
              "  background-color: lightgrey;\n",
              "}\n",
              "#T_d4e2c_row10_col7 {\n",
              "  text-align: left;\n",
              "  background-color: yellow;\n",
              "  background-color: lightgrey;\n",
              "}\n",
              "</style>\n",
              "<table id=\"T_d4e2c\" class=\"dataframe\">\n",
              "  <thead>\n",
              "    <tr>\n",
              "      <th class=\"blank level0\" >&nbsp;</th>\n",
              "      <th id=\"T_d4e2c_level0_col0\" class=\"col_heading level0 col0\" >Model</th>\n",
              "      <th id=\"T_d4e2c_level0_col1\" class=\"col_heading level0 col1\" >MAE</th>\n",
              "      <th id=\"T_d4e2c_level0_col2\" class=\"col_heading level0 col2\" >MSE</th>\n",
              "      <th id=\"T_d4e2c_level0_col3\" class=\"col_heading level0 col3\" >RMSE</th>\n",
              "      <th id=\"T_d4e2c_level0_col4\" class=\"col_heading level0 col4\" >R2</th>\n",
              "      <th id=\"T_d4e2c_level0_col5\" class=\"col_heading level0 col5\" >RMSLE</th>\n",
              "      <th id=\"T_d4e2c_level0_col6\" class=\"col_heading level0 col6\" >MAPE</th>\n",
              "      <th id=\"T_d4e2c_level0_col7\" class=\"col_heading level0 col7\" >TT (Sec)</th>\n",
              "    </tr>\n",
              "  </thead>\n",
              "  <tbody>\n",
              "    <tr>\n",
              "      <th id=\"T_d4e2c_level0_row0\" class=\"row_heading level0 row0\" >gbr</th>\n",
              "      <td id=\"T_d4e2c_row0_col0\" class=\"data row0 col0\" >Gradient Boosting Regressor</td>\n",
              "      <td id=\"T_d4e2c_row0_col1\" class=\"data row0 col1\" >2904.0018</td>\n",
              "      <td id=\"T_d4e2c_row0_col2\" class=\"data row0 col2\" >24977463.4893</td>\n",
              "      <td id=\"T_d4e2c_row0_col3\" class=\"data row0 col3\" >4920.2473</td>\n",
              "      <td id=\"T_d4e2c_row0_col4\" class=\"data row0 col4\" >0.8225</td>\n",
              "      <td id=\"T_d4e2c_row0_col5\" class=\"data row0 col5\" >0.4627</td>\n",
              "      <td id=\"T_d4e2c_row0_col6\" class=\"data row0 col6\" >0.3286</td>\n",
              "      <td id=\"T_d4e2c_row0_col7\" class=\"data row0 col7\" >0.7450</td>\n",
              "    </tr>\n",
              "    <tr>\n",
              "      <th id=\"T_d4e2c_level0_row1\" class=\"row_heading level0 row1\" >lightgbm</th>\n",
              "      <td id=\"T_d4e2c_row1_col0\" class=\"data row1 col0\" >Light Gradient Boosting Machine</td>\n",
              "      <td id=\"T_d4e2c_row1_col1\" class=\"data row1 col1\" >3161.0011</td>\n",
              "      <td id=\"T_d4e2c_row1_col2\" class=\"data row1 col2\" >27029170.7042</td>\n",
              "      <td id=\"T_d4e2c_row1_col3\" class=\"data row1 col3\" >5138.9136</td>\n",
              "      <td id=\"T_d4e2c_row1_col4\" class=\"data row1 col4\" >0.8065</td>\n",
              "      <td id=\"T_d4e2c_row1_col5\" class=\"data row1 col5\" >0.5731</td>\n",
              "      <td id=\"T_d4e2c_row1_col6\" class=\"data row1 col6\" >0.3831</td>\n",
              "      <td id=\"T_d4e2c_row1_col7\" class=\"data row1 col7\" >0.3850</td>\n",
              "    </tr>\n",
              "    <tr>\n",
              "      <th id=\"T_d4e2c_level0_row2\" class=\"row_heading level0 row2\" >rf</th>\n",
              "      <td id=\"T_d4e2c_row2_col0\" class=\"data row2 col0\" >Random Forest Regressor</td>\n",
              "      <td id=\"T_d4e2c_row2_col1\" class=\"data row2 col1\" >3031.9401</td>\n",
              "      <td id=\"T_d4e2c_row2_col2\" class=\"data row2 col2\" >27358881.2567</td>\n",
              "      <td id=\"T_d4e2c_row2_col3\" class=\"data row2 col3\" >5166.0470</td>\n",
              "      <td id=\"T_d4e2c_row2_col4\" class=\"data row2 col4\" >0.8065</td>\n",
              "      <td id=\"T_d4e2c_row2_col5\" class=\"data row2 col5\" >0.4856</td>\n",
              "      <td id=\"T_d4e2c_row2_col6\" class=\"data row2 col6\" >0.3487</td>\n",
              "      <td id=\"T_d4e2c_row2_col7\" class=\"data row2 col7\" >0.8090</td>\n",
              "    </tr>\n",
              "    <tr>\n",
              "      <th id=\"T_d4e2c_level0_row3\" class=\"row_heading level0 row3\" >ada</th>\n",
              "      <td id=\"T_d4e2c_row3_col0\" class=\"data row3 col0\" >AdaBoost Regressor</td>\n",
              "      <td id=\"T_d4e2c_row3_col1\" class=\"data row3 col1\" >4181.4214</td>\n",
              "      <td id=\"T_d4e2c_row3_col2\" class=\"data row3 col2\" >28705547.6548</td>\n",
              "      <td id=\"T_d4e2c_row3_col3\" class=\"data row3 col3\" >5324.1394</td>\n",
              "      <td id=\"T_d4e2c_row3_col4\" class=\"data row3 col4\" >0.7957</td>\n",
              "      <td id=\"T_d4e2c_row3_col5\" class=\"data row3 col5\" >0.6148</td>\n",
              "      <td id=\"T_d4e2c_row3_col6\" class=\"data row3 col6\" >0.6887</td>\n",
              "      <td id=\"T_d4e2c_row3_col7\" class=\"data row3 col7\" >0.3320</td>\n",
              "    </tr>\n",
              "    <tr>\n",
              "      <th id=\"T_d4e2c_level0_row4\" class=\"row_heading level0 row4\" >et</th>\n",
              "      <td id=\"T_d4e2c_row4_col0\" class=\"data row4 col0\" >Extra Trees Regressor</td>\n",
              "      <td id=\"T_d4e2c_row4_col1\" class=\"data row4 col1\" >3016.2447</td>\n",
              "      <td id=\"T_d4e2c_row4_col2\" class=\"data row4 col2\" >29385902.2686</td>\n",
              "      <td id=\"T_d4e2c_row4_col3\" class=\"data row4 col3\" >5370.4845</td>\n",
              "      <td id=\"T_d4e2c_row4_col4\" class=\"data row4 col4\" >0.7899</td>\n",
              "      <td id=\"T_d4e2c_row4_col5\" class=\"data row4 col5\" >0.4855</td>\n",
              "      <td id=\"T_d4e2c_row4_col6\" class=\"data row4 col6\" >0.3513</td>\n",
              "      <td id=\"T_d4e2c_row4_col7\" class=\"data row4 col7\" >0.7380</td>\n",
              "    </tr>\n",
              "    <tr>\n",
              "      <th id=\"T_d4e2c_level0_row5\" class=\"row_heading level0 row5\" >xgboost</th>\n",
              "      <td id=\"T_d4e2c_row5_col0\" class=\"data row5 col0\" >Extreme Gradient Boosting</td>\n",
              "      <td id=\"T_d4e2c_row5_col1\" class=\"data row5 col1\" >3364.7416</td>\n",
              "      <td id=\"T_d4e2c_row5_col2\" class=\"data row5 col2\" >32199543.0000</td>\n",
              "      <td id=\"T_d4e2c_row5_col3\" class=\"data row5 col3\" >5590.4833</td>\n",
              "      <td id=\"T_d4e2c_row5_col4\" class=\"data row5 col4\" >0.7703</td>\n",
              "      <td id=\"T_d4e2c_row5_col5\" class=\"data row5 col5\" >0.6059</td>\n",
              "      <td id=\"T_d4e2c_row5_col6\" class=\"data row5 col6\" >0.3979</td>\n",
              "      <td id=\"T_d4e2c_row5_col7\" class=\"data row5 col7\" >0.4070</td>\n",
              "    </tr>\n",
              "    <tr>\n",
              "      <th id=\"T_d4e2c_level0_row6\" class=\"row_heading level0 row6\" >ridge</th>\n",
              "      <td id=\"T_d4e2c_row6_col0\" class=\"data row6 col0\" >Ridge Regression</td>\n",
              "      <td id=\"T_d4e2c_row6_col1\" class=\"data row6 col1\" >4349.5815</td>\n",
              "      <td id=\"T_d4e2c_row6_col2\" class=\"data row6 col2\" >38464456.1199</td>\n",
              "      <td id=\"T_d4e2c_row6_col3\" class=\"data row6 col3\" >6150.6857</td>\n",
              "      <td id=\"T_d4e2c_row6_col4\" class=\"data row6 col4\" >0.7291</td>\n",
              "      <td id=\"T_d4e2c_row6_col5\" class=\"data row6 col5\" >0.5667</td>\n",
              "      <td id=\"T_d4e2c_row6_col6\" class=\"data row6 col6\" >0.4431</td>\n",
              "      <td id=\"T_d4e2c_row6_col7\" class=\"data row6 col7\" >0.3020</td>\n",
              "    </tr>\n",
              "    <tr>\n",
              "      <th id=\"T_d4e2c_level0_row7\" class=\"row_heading level0 row7\" >br</th>\n",
              "      <td id=\"T_d4e2c_row7_col0\" class=\"data row7 col0\" >Bayesian Ridge</td>\n",
              "      <td id=\"T_d4e2c_row7_col1\" class=\"data row7 col1\" >4340.5818</td>\n",
              "      <td id=\"T_d4e2c_row7_col2\" class=\"data row7 col2\" >38460734.1599</td>\n",
              "      <td id=\"T_d4e2c_row7_col3\" class=\"data row7 col3\" >6150.6037</td>\n",
              "      <td id=\"T_d4e2c_row7_col4\" class=\"data row7 col4\" >0.7290</td>\n",
              "      <td id=\"T_d4e2c_row7_col5\" class=\"data row7 col5\" >0.5683</td>\n",
              "      <td id=\"T_d4e2c_row7_col6\" class=\"data row7 col6\" >0.4414</td>\n",
              "      <td id=\"T_d4e2c_row7_col7\" class=\"data row7 col7\" >0.5670</td>\n",
              "    </tr>\n",
              "    <tr>\n",
              "      <th id=\"T_d4e2c_level0_row8\" class=\"row_heading level0 row8\" >lar</th>\n",
              "      <td id=\"T_d4e2c_row8_col0\" class=\"data row8 col0\" >Least Angle Regression</td>\n",
              "      <td id=\"T_d4e2c_row8_col1\" class=\"data row8 col1\" >4329.9100</td>\n",
              "      <td id=\"T_d4e2c_row8_col2\" class=\"data row8 col2\" >38458910.7986</td>\n",
              "      <td id=\"T_d4e2c_row8_col3\" class=\"data row8 col3\" >6150.6627</td>\n",
              "      <td id=\"T_d4e2c_row8_col4\" class=\"data row8 col4\" >0.7289</td>\n",
              "      <td id=\"T_d4e2c_row8_col5\" class=\"data row8 col5\" >0.5711</td>\n",
              "      <td id=\"T_d4e2c_row8_col6\" class=\"data row8 col6\" >0.4395</td>\n",
              "      <td id=\"T_d4e2c_row8_col7\" class=\"data row8 col7\" >0.5000</td>\n",
              "    </tr>\n",
              "    <tr>\n",
              "      <th id=\"T_d4e2c_level0_row9\" class=\"row_heading level0 row9\" >llar</th>\n",
              "      <td id=\"T_d4e2c_row9_col0\" class=\"data row9 col0\" >Lasso Least Angle Regression</td>\n",
              "      <td id=\"T_d4e2c_row9_col1\" class=\"data row9 col1\" >4329.8132</td>\n",
              "      <td id=\"T_d4e2c_row9_col2\" class=\"data row9 col2\" >38454592.3759</td>\n",
              "      <td id=\"T_d4e2c_row9_col3\" class=\"data row9 col3\" >6150.3044</td>\n",
              "      <td id=\"T_d4e2c_row9_col4\" class=\"data row9 col4\" >0.7289</td>\n",
              "      <td id=\"T_d4e2c_row9_col5\" class=\"data row9 col5\" >0.5706</td>\n",
              "      <td id=\"T_d4e2c_row9_col6\" class=\"data row9 col6\" >0.4395</td>\n",
              "      <td id=\"T_d4e2c_row9_col7\" class=\"data row9 col7\" >0.3130</td>\n",
              "    </tr>\n",
              "    <tr>\n",
              "      <th id=\"T_d4e2c_level0_row10\" class=\"row_heading level0 row10\" >lasso</th>\n",
              "      <td id=\"T_d4e2c_row10_col0\" class=\"data row10 col0\" >Lasso Regression</td>\n",
              "      <td id=\"T_d4e2c_row10_col1\" class=\"data row10 col1\" >4329.8135</td>\n",
              "      <td id=\"T_d4e2c_row10_col2\" class=\"data row10 col2\" >38454588.9769</td>\n",
              "      <td id=\"T_d4e2c_row10_col3\" class=\"data row10 col3\" >6150.3040</td>\n",
              "      <td id=\"T_d4e2c_row10_col4\" class=\"data row10 col4\" >0.7289</td>\n",
              "      <td id=\"T_d4e2c_row10_col5\" class=\"data row10 col5\" >0.5706</td>\n",
              "      <td id=\"T_d4e2c_row10_col6\" class=\"data row10 col6\" >0.4395</td>\n",
              "      <td id=\"T_d4e2c_row10_col7\" class=\"data row10 col7\" >0.3010</td>\n",
              "    </tr>\n",
              "    <tr>\n",
              "      <th id=\"T_d4e2c_level0_row11\" class=\"row_heading level0 row11\" >lr</th>\n",
              "      <td id=\"T_d4e2c_row11_col0\" class=\"data row11 col0\" >Linear Regression</td>\n",
              "      <td id=\"T_d4e2c_row11_col1\" class=\"data row11 col1\" >4329.9100</td>\n",
              "      <td id=\"T_d4e2c_row11_col2\" class=\"data row11 col2\" >38458910.7986</td>\n",
              "      <td id=\"T_d4e2c_row11_col3\" class=\"data row11 col3\" >6150.6627</td>\n",
              "      <td id=\"T_d4e2c_row11_col4\" class=\"data row11 col4\" >0.7289</td>\n",
              "      <td id=\"T_d4e2c_row11_col5\" class=\"data row11 col5\" >0.5711</td>\n",
              "      <td id=\"T_d4e2c_row11_col6\" class=\"data row11 col6\" >0.4395</td>\n",
              "      <td id=\"T_d4e2c_row11_col7\" class=\"data row11 col7\" >0.5530</td>\n",
              "    </tr>\n",
              "    <tr>\n",
              "      <th id=\"T_d4e2c_level0_row12\" class=\"row_heading level0 row12\" >huber</th>\n",
              "      <td id=\"T_d4e2c_row12_col0\" class=\"data row12 col0\" >Huber Regressor</td>\n",
              "      <td id=\"T_d4e2c_row12_col1\" class=\"data row12 col1\" >3521.2713</td>\n",
              "      <td id=\"T_d4e2c_row12_col2\" class=\"data row12 col2\" >48758592.5194</td>\n",
              "      <td id=\"T_d4e2c_row12_col3\" class=\"data row12 col3\" >6934.2572</td>\n",
              "      <td id=\"T_d4e2c_row12_col4\" class=\"data row12 col4\" >0.6500</td>\n",
              "      <td id=\"T_d4e2c_row12_col5\" class=\"data row12 col5\" >0.4814</td>\n",
              "      <td id=\"T_d4e2c_row12_col6\" class=\"data row12 col6\" >0.2257</td>\n",
              "      <td id=\"T_d4e2c_row12_col7\" class=\"data row12 col7\" >0.4120</td>\n",
              "    </tr>\n",
              "    <tr>\n",
              "      <th id=\"T_d4e2c_level0_row13\" class=\"row_heading level0 row13\" >dt</th>\n",
              "      <td id=\"T_d4e2c_row13_col0\" class=\"data row13 col0\" >Decision Tree Regressor</td>\n",
              "      <td id=\"T_d4e2c_row13_col1\" class=\"data row13 col1\" >3610.2439</td>\n",
              "      <td id=\"T_d4e2c_row13_col2\" class=\"data row13 col2\" >50260086.7539</td>\n",
              "      <td id=\"T_d4e2c_row13_col3\" class=\"data row13 col3\" >6978.2825</td>\n",
              "      <td id=\"T_d4e2c_row13_col4\" class=\"data row13 col4\" >0.6493</td>\n",
              "      <td id=\"T_d4e2c_row13_col5\" class=\"data row13 col5\" >0.5570</td>\n",
              "      <td id=\"T_d4e2c_row13_col6\" class=\"data row13 col6\" >0.3971</td>\n",
              "      <td id=\"T_d4e2c_row13_col7\" class=\"data row13 col7\" >0.3590</td>\n",
              "    </tr>\n",
              "    <tr>\n",
              "      <th id=\"T_d4e2c_level0_row14\" class=\"row_heading level0 row14\" >par</th>\n",
              "      <td id=\"T_d4e2c_row14_col0\" class=\"data row14 col0\" >Passive Aggressive Regressor</td>\n",
              "      <td id=\"T_d4e2c_row14_col1\" class=\"data row14 col1\" >5057.3520</td>\n",
              "      <td id=\"T_d4e2c_row14_col2\" class=\"data row14 col2\" >90478974.9183</td>\n",
              "      <td id=\"T_d4e2c_row14_col3\" class=\"data row14 col3\" >9196.7052</td>\n",
              "      <td id=\"T_d4e2c_row14_col4\" class=\"data row14 col4\" >0.3969</td>\n",
              "      <td id=\"T_d4e2c_row14_col5\" class=\"data row14 col5\" >0.5226</td>\n",
              "      <td id=\"T_d4e2c_row14_col6\" class=\"data row14 col6\" >0.2944</td>\n",
              "      <td id=\"T_d4e2c_row14_col7\" class=\"data row14 col7\" >0.3030</td>\n",
              "    </tr>\n",
              "    <tr>\n",
              "      <th id=\"T_d4e2c_level0_row15\" class=\"row_heading level0 row15\" >en</th>\n",
              "      <td id=\"T_d4e2c_row15_col0\" class=\"data row15 col0\" >Elastic Net</td>\n",
              "      <td id=\"T_d4e2c_row15_col1\" class=\"data row15 col1\" >7450.9539</td>\n",
              "      <td id=\"T_d4e2c_row15_col2\" class=\"data row15 col2\" >91700076.3797</td>\n",
              "      <td id=\"T_d4e2c_row15_col3\" class=\"data row15 col3\" >9499.5925</td>\n",
              "      <td id=\"T_d4e2c_row15_col4\" class=\"data row15 col4\" >0.3655</td>\n",
              "      <td id=\"T_d4e2c_row15_col5\" class=\"data row15 col5\" >0.7535</td>\n",
              "      <td id=\"T_d4e2c_row15_col6\" class=\"data row15 col6\" >0.9658</td>\n",
              "      <td id=\"T_d4e2c_row15_col7\" class=\"data row15 col7\" >0.3570</td>\n",
              "    </tr>\n",
              "    <tr>\n",
              "      <th id=\"T_d4e2c_level0_row16\" class=\"row_heading level0 row16\" >omp</th>\n",
              "      <td id=\"T_d4e2c_row16_col0\" class=\"data row16 col0\" >Orthogonal Matching Pursuit</td>\n",
              "      <td id=\"T_d4e2c_row16_col1\" class=\"data row16 col1\" >9198.8091</td>\n",
              "      <td id=\"T_d4e2c_row16_col2\" class=\"data row16 col2\" >135835910.7041</td>\n",
              "      <td id=\"T_d4e2c_row16_col3\" class=\"data row16 col3\" >11565.8880</td>\n",
              "      <td id=\"T_d4e2c_row16_col4\" class=\"data row16 col4\" >0.0594</td>\n",
              "      <td id=\"T_d4e2c_row16_col5\" class=\"data row16 col5\" >0.8965</td>\n",
              "      <td id=\"T_d4e2c_row16_col6\" class=\"data row16 col6\" >1.2044</td>\n",
              "      <td id=\"T_d4e2c_row16_col7\" class=\"data row16 col7\" >0.3240</td>\n",
              "    </tr>\n",
              "    <tr>\n",
              "      <th id=\"T_d4e2c_level0_row17\" class=\"row_heading level0 row17\" >knn</th>\n",
              "      <td id=\"T_d4e2c_row17_col0\" class=\"data row17 col0\" >K Neighbors Regressor</td>\n",
              "      <td id=\"T_d4e2c_row17_col1\" class=\"data row17 col1\" >8631.5791</td>\n",
              "      <td id=\"T_d4e2c_row17_col2\" class=\"data row17 col2\" >142922589.6000</td>\n",
              "      <td id=\"T_d4e2c_row17_col3\" class=\"data row17 col3\" >11865.8200</td>\n",
              "      <td id=\"T_d4e2c_row17_col4\" class=\"data row17 col4\" >0.0078</td>\n",
              "      <td id=\"T_d4e2c_row17_col5\" class=\"data row17 col5\" >0.9121</td>\n",
              "      <td id=\"T_d4e2c_row17_col6\" class=\"data row17 col6\" >1.0610</td>\n",
              "      <td id=\"T_d4e2c_row17_col7\" class=\"data row17 col7\" >0.5670</td>\n",
              "    </tr>\n",
              "    <tr>\n",
              "      <th id=\"T_d4e2c_level0_row18\" class=\"row_heading level0 row18\" >dummy</th>\n",
              "      <td id=\"T_d4e2c_row18_col0\" class=\"data row18 col0\" >Dummy Regressor</td>\n",
              "      <td id=\"T_d4e2c_row18_col1\" class=\"data row18 col1\" >9152.2137</td>\n",
              "      <td id=\"T_d4e2c_row18_col2\" class=\"data row18 col2\" >147820781.6000</td>\n",
              "      <td id=\"T_d4e2c_row18_col3\" class=\"data row18 col3\" >12083.4515</td>\n",
              "      <td id=\"T_d4e2c_row18_col4\" class=\"data row18 col4\" >-0.0274</td>\n",
              "      <td id=\"T_d4e2c_row18_col5\" class=\"data row18 col5\" >1.0052</td>\n",
              "      <td id=\"T_d4e2c_row18_col6\" class=\"data row18 col6\" >1.5488</td>\n",
              "      <td id=\"T_d4e2c_row18_col7\" class=\"data row18 col7\" >0.5080</td>\n",
              "    </tr>\n",
              "  </tbody>\n",
              "</table>\n"
            ]
          },
          "metadata": {}
        },
        {
          "output_type": "display_data",
          "data": {
            "text/plain": [
              "Processing:   0%|          | 0/81 [00:00<?, ?it/s]"
            ],
            "application/vnd.jupyter.widget-view+json": {
              "version_major": 2,
              "version_minor": 0,
              "model_id": "82cf3612da2b4326b9d7bff523fb0081"
            }
          },
          "metadata": {
            "application/vnd.jupyter.widget-view+json": {
              "colab": {
                "custom_widget_manager": {
                  "url": "https://ssl.gstatic.com/colaboratory-static/widgets/colab-cdn-widget-manager/b3e629b1971e1542/manager.min.js"
                }
              }
            }
          }
        },
        {
          "output_type": "display_data",
          "data": {
            "text/plain": [
              "<IPython.core.display.HTML object>"
            ],
            "text/html": []
          },
          "metadata": {}
        }
      ]
    },
    {
      "cell_type": "code",
      "source": [
        "evaluate_model(best)"
      ],
      "metadata": {
        "colab": {
          "base_uri": "https://localhost:8080/",
          "height": 196,
          "referenced_widgets": [
            "1b165cd52a0a4f8fa6548cfc34bc900f",
            "be37b746e8ac4a8f8508f9cde64c5af8",
            "4aaafb7f4b264f1a86c2445e41e62dad",
            "e4ac25b54fa14512a393cbf4895ea9df",
            "e2e60da4b4b54871aa230c8a8ef6d9ea",
            "e95448891b444c0c86c6dcdb4b4d8bd4",
            "2fc545346de94e4d85410a12789f1f6c"
          ]
        },
        "id": "sP5IwP6v786B",
        "outputId": "66871416-2eba-4c48-ae01-53dfcc5a2f69"
      },
      "execution_count": 120,
      "outputs": [
        {
          "output_type": "display_data",
          "data": {
            "text/plain": [
              "interactive(children=(ToggleButtons(description='Plot Type:', icons=('',), options=(('Pipeline Plot', 'pipelin…"
            ],
            "application/vnd.jupyter.widget-view+json": {
              "version_major": 2,
              "version_minor": 0,
              "model_id": "1b165cd52a0a4f8fa6548cfc34bc900f"
            }
          },
          "metadata": {
            "application/vnd.jupyter.widget-view+json": {
              "colab": {
                "custom_widget_manager": {
                  "url": "https://ssl.gstatic.com/colaboratory-static/widgets/colab-cdn-widget-manager/b3e629b1971e1542/manager.min.js"
                }
              }
            }
          }
        }
      ]
    },
    {
      "cell_type": "code",
      "source": [
        "plot_model(best, plot='error')"
      ],
      "metadata": {
        "colab": {
          "base_uri": "https://localhost:8080/",
          "height": 526
        },
        "id": "nH-GvKyCuHjT",
        "outputId": "eeb34163-e997-4c60-fe44-44a8ec80212d"
      },
      "execution_count": 121,
      "outputs": [
        {
          "output_type": "display_data",
          "data": {
            "text/plain": [
              "<IPython.core.display.HTML object>"
            ],
            "text/html": []
          },
          "metadata": {}
        },
        {
          "output_type": "display_data",
          "data": {
            "text/plain": [
              "<Figure size 800x550 with 1 Axes>"
            ],
            "image/png": "[encoded data removed]"
          },
          "metadata": {}
        }
      ]
    },
    {
      "cell_type": "code",
      "source": [
        "plot_model(best, plot='feature')"
      ],
      "metadata": {
        "colab": {
          "base_uri": "https://localhost:8080/",
          "height": 485
        },
        "id": "xkJkpDg21azT",
        "outputId": "9afc2d77-85e4-4556-ad7e-904e37094924"
      },
      "execution_count": 122,
      "outputs": [
        {
          "output_type": "display_data",
          "data": {
            "text/plain": [
              "<IPython.core.display.HTML object>"
            ],
            "text/html": []
          },
          "metadata": {}
        },
        {
          "output_type": "display_data",
          "data": {
            "text/plain": [
              "<Figure size 800x500 with 1 Axes>"
            ],
            "image/png": "[encoded data removed]"
          },
          "metadata": {}
        }
      ]
    },
    {
      "cell_type": "code",
      "source": [
        "pred = predict_model(best)"
      ],
      "metadata": {
        "colab": {
          "base_uri": "https://localhost:8080/",
          "height": 81
        },
        "id": "xBtryNAl1yMi",
        "outputId": "88a66bc7-4002-4c94-9166-ba02d3d191cf"
      },
      "execution_count": 123,
      "outputs": [
        {
          "output_type": "display_data",
          "data": {
            "text/plain": [
              "<pandas.io.formats.style.Styler at 0x7f7486784f70>"
            ],
            "text/html": [
              "<style type=\"text/css\">\n",
              "</style>\n",
              "<table id=\"T_5922a\" class=\"dataframe\">\n",
              "  <thead>\n",
              "    <tr>\n",
              "      <th class=\"blank level0\" >&nbsp;</th>\n",
              "      <th id=\"T_5922a_level0_col0\" class=\"col_heading level0 col0\" >Model</th>\n",
              "      <th id=\"T_5922a_level0_col1\" class=\"col_heading level0 col1\" >MAE</th>\n",
              "      <th id=\"T_5922a_level0_col2\" class=\"col_heading level0 col2\" >MSE</th>\n",
              "      <th id=\"T_5922a_level0_col3\" class=\"col_heading level0 col3\" >RMSE</th>\n",
              "      <th id=\"T_5922a_level0_col4\" class=\"col_heading level0 col4\" >R2</th>\n",
              "      <th id=\"T_5922a_level0_col5\" class=\"col_heading level0 col5\" >RMSLE</th>\n",
              "      <th id=\"T_5922a_level0_col6\" class=\"col_heading level0 col6\" >MAPE</th>\n",
              "    </tr>\n",
              "  </thead>\n",
              "  <tbody>\n",
              "    <tr>\n",
              "      <th id=\"T_5922a_level0_row0\" class=\"row_heading level0 row0\" >0</th>\n",
              "      <td id=\"T_5922a_row0_col0\" class=\"data row0 col0\" >Gradient Boosting Regressor</td>\n",
              "      <td id=\"T_5922a_row0_col1\" class=\"data row0 col1\" >2558.9023</td>\n",
              "      <td id=\"T_5922a_row0_col2\" class=\"data row0 col2\" >19337945.0332</td>\n",
              "      <td id=\"T_5922a_row0_col3\" class=\"data row0 col3\" >4397.4930</td>\n",
              "      <td id=\"T_5922a_row0_col4\" class=\"data row0 col4\" >0.8668</td>\n",
              "      <td id=\"T_5922a_row0_col5\" class=\"data row0 col5\" >0.4559</td>\n",
              "      <td id=\"T_5922a_row0_col6\" class=\"data row0 col6\" >0.3045</td>\n",
              "    </tr>\n",
              "  </tbody>\n",
              "</table>\n"
            ]
          },
          "metadata": {}
        }
      ]
    },
    {
      "cell_type": "code",
      "source": [
        "unseen_predictions = predict_model(best,data=df_clean,)\n",
        "unseen_predictions.head()"
      ],
      "metadata": {
        "colab": {
          "base_uri": "https://localhost:8080/",
          "height": 270
        },
        "id": "zzIz8bC649aj",
        "outputId": "d8e527e2-618a-4f6a-acd2-eef34181e041"
      },
      "execution_count": 129,
      "outputs": [
        {
          "output_type": "display_data",
          "data": {
            "text/plain": [
              "<pandas.io.formats.style.Styler at 0x7f7486b3ff40>"
            ],
            "text/html": [
              "<style type=\"text/css\">\n",
              "</style>\n",
              "<table id=\"T_7565e\" class=\"dataframe\">\n",
              "  <thead>\n",
              "    <tr>\n",
              "      <th class=\"blank level0\" >&nbsp;</th>\n",
              "      <th id=\"T_7565e_level0_col0\" class=\"col_heading level0 col0\" >Model</th>\n",
              "      <th id=\"T_7565e_level0_col1\" class=\"col_heading level0 col1\" >MAE</th>\n",
              "      <th id=\"T_7565e_level0_col2\" class=\"col_heading level0 col2\" >MSE</th>\n",
              "      <th id=\"T_7565e_level0_col3\" class=\"col_heading level0 col3\" >RMSE</th>\n",
              "      <th id=\"T_7565e_level0_col4\" class=\"col_heading level0 col4\" >R2</th>\n",
              "      <th id=\"T_7565e_level0_col5\" class=\"col_heading level0 col5\" >RMSLE</th>\n",
              "      <th id=\"T_7565e_level0_col6\" class=\"col_heading level0 col6\" >MAPE</th>\n",
              "    </tr>\n",
              "  </thead>\n",
              "  <tbody>\n",
              "    <tr>\n",
              "      <th id=\"T_7565e_level0_row0\" class=\"row_heading level0 row0\" >0</th>\n",
              "      <td id=\"T_7565e_row0_col0\" class=\"data row0 col0\" >Gradient Boosting Regressor</td>\n",
              "      <td id=\"T_7565e_row0_col1\" class=\"data row0 col1\" >2385.6980</td>\n",
              "      <td id=\"T_7565e_row0_col2\" class=\"data row0 col2\" >17053939.3801</td>\n",
              "      <td id=\"T_7565e_row0_col3\" class=\"data row0 col3\" >4129.6416</td>\n",
              "      <td id=\"T_7565e_row0_col4\" class=\"data row0 col4\" >0.8836</td>\n",
              "      <td id=\"T_7565e_row0_col5\" class=\"data row0 col5\" >0.4097</td>\n",
              "      <td id=\"T_7565e_row0_col6\" class=\"data row0 col6\" >0.2881</td>\n",
              "    </tr>\n",
              "  </tbody>\n",
              "</table>\n"
            ]
          },
          "metadata": {}
        },
        {
          "output_type": "execute_result",
          "data": {
            "text/plain": [
              "   age     sex        bmi  children smoker     region      expenses  \\\n",
              "0   19  female  27.900000         0    yes  southwest  16884.919922   \n",
              "1   18    male  33.799999         1     no  southeast   1725.550049   \n",
              "2   28    male  33.000000         3     no  southeast   4449.459961   \n",
              "3   33    male  22.700001         0     no  northwest  21984.470703   \n",
              "4   32    male  28.900000         0     no  northwest   3866.860107   \n",
              "\n",
              "   prediction_label  \n",
              "0      17492.386830  \n",
              "1       4041.866717  \n",
              "2       6930.358459  \n",
              "3       3280.494577  \n",
              "4       3547.805656  "
            ],
            "text/html": [
              "\n",
              "  <div id=\"df-167be96c-3a7f-474d-8e73-3236eebf3f4c\">\n",
              "    <div class=\"colab-df-container\">\n",
              "      <div>\n",
              "<style scoped>\n",
              "    .dataframe tbody tr th:only-of-type {\n",
              "        vertical-align: middle;\n",
              "    }\n",
              "\n",
              "    .dataframe tbody tr th {\n",
              "        vertical-align: top;\n",
              "    }\n",
              "\n",
              "    .dataframe thead th {\n",
              "        text-align: right;\n",
              "    }\n",
              "</style>\n",
              "<table border=\"1\" class=\"dataframe\">\n",
              "  <thead>\n",
              "    <tr style=\"text-align: right;\">\n",
              "      <th></th>\n",
              "      <th>age</th>\n",
              "      <th>sex</th>\n",
              "      <th>bmi</th>\n",
              "      <th>children</th>\n",
              "      <th>smoker</th>\n",
              "      <th>region</th>\n",
              "      <th>expenses</th>\n",
              "      <th>prediction_label</th>\n",
              "    </tr>\n",
              "  </thead>\n",
              "  <tbody>\n",
              "    <tr>\n",
              "      <th>0</th>\n",
              "      <td>19</td>\n",
              "      <td>female</td>\n",
              "      <td>27.900000</td>\n",
              "      <td>0</td>\n",
              "      <td>yes</td>\n",
              "      <td>southwest</td>\n",
              "      <td>16884.919922</td>\n",
              "      <td>17492.386830</td>\n",
              "    </tr>\n",
              "    <tr>\n",
              "      <th>1</th>\n",
              "      <td>18</td>\n",
              "      <td>male</td>\n",
              "      <td>33.799999</td>\n",
              "      <td>1</td>\n",
              "      <td>no</td>\n",
              "      <td>southeast</td>\n",
              "      <td>1725.550049</td>\n",
              "      <td>4041.866717</td>\n",
              "    </tr>\n",
              "    <tr>\n",
              "      <th>2</th>\n",
              "      <td>28</td>\n",
              "      <td>male</td>\n",
              "      <td>33.000000</td>\n",
              "      <td>3</td>\n",
              "      <td>no</td>\n",
              "      <td>southeast</td>\n",
              "      <td>4449.459961</td>\n",
              "      <td>6930.358459</td>\n",
              "    </tr>\n",
              "    <tr>\n",
              "      <th>3</th>\n",
              "      <td>33</td>\n",
              "      <td>male</td>\n",
              "      <td>22.700001</td>\n",
              "      <td>0</td>\n",
              "      <td>no</td>\n",
              "      <td>northwest</td>\n",
              "      <td>21984.470703</td>\n",
              "      <td>3280.494577</td>\n",
              "    </tr>\n",
              "    <tr>\n",
              "      <th>4</th>\n",
              "      <td>32</td>\n",
              "      <td>male</td>\n",
              "      <td>28.900000</td>\n",
              "      <td>0</td>\n",
              "      <td>no</td>\n",
              "      <td>northwest</td>\n",
              "      <td>3866.860107</td>\n",
              "      <td>3547.805656</td>\n",
              "    </tr>\n",
              "  </tbody>\n",
              "</table>\n",
              "</div>\n",
              "      <button class=\"colab-df-convert\" onclick=\"convertToInteractive('df-167be96c-3a7f-474d-8e73-3236eebf3f4c')\"\n",
              "              title=\"Convert this dataframe to an interactive table.\"\n",
              "              style=\"display:none;\">\n",
              "        \n",
              "  <svg xmlns=\"http://www.w3.org/2000/svg\" height=\"24px\"viewBox=\"0 0 24 24\"\n",
              "       width=\"24px\">\n",
              "    <path d=\"M0 0h24v24H0V0z\" fill=\"none\"/>\n",
              "    <path d=\"M18.56 5.44l.94 2.06.94-2.06 2.06-.94-2.06-.94-.94-2.06-.94 2.06-2.06.94zm-11 1L8.5 8.5l.94-2.06 2.06-.94-2.06-.94L8.5 2.5l-.94 2.06-2.06.94zm10 10l.94 2.06.94-2.06 2.06-.94-2.06-.94-.94-2.06-.94 2.06-2.06.94z\"/><path d=\"M17.41 7.96l-1.37-1.37c-.4-.4-.92-.59-1.43-.59-.52 0-1.04.2-1.43.59L10.3 9.45l-7.72 7.72c-.78.78-.78 2.05 0 2.83L4 21.41c.39.39.9.59 1.41.59.51 0 1.02-.2 1.41-.59l7.78-7.78 2.81-2.81c.8-.78.8-2.07 0-2.86zM5.41 20L4 18.59l7.72-7.72 1.47 1.35L5.41 20z\"/>\n",
              "  </svg>\n",
              "      </button>\n",
              "      \n",
              "  <style>\n",
              "    .colab-df-container {\n",
              "      display:flex;\n",
              "      flex-wrap:wrap;\n",
              "      gap: 12px;\n",
              "    }\n",
              "\n",
              "    .colab-df-convert {\n",
              "      background-color: #E8F0FE;\n",
              "      border: none;\n",
              "      border-radius: 50%;\n",
              "      cursor: pointer;\n",
              "      display: none;\n",
              "      fill: #1967D2;\n",
              "      height: 32px;\n",
              "      padding: 0 0 0 0;\n",
              "      width: 32px;\n",
              "    }\n",
              "\n",
              "    .colab-df-convert:hover {\n",
              "      background-color: #E2EBFA;\n",
              "      box-shadow: 0px 1px 2px rgba(60, 64, 67, 0.3), 0px 1px 3px 1px rgba(60, 64, 67, 0.15);\n",
              "      fill: #174EA6;\n",
              "    }\n",
              "\n",
              "    [theme=dark] .colab-df-convert {\n",
              "      background-color: #3B4455;\n",
              "      fill: #D2E3FC;\n",
              "    }\n",
              "\n",
              "    [theme=dark] .colab-df-convert:hover {\n",
              "      background-color: #434B5C;\n",
              "      box-shadow: 0px 1px 3px 1px rgba(0, 0, 0, 0.15);\n",
              "      filter: drop-shadow(0px 1px 2px rgba(0, 0, 0, 0.3));\n",
              "      fill: #FFFFFF;\n",
              "    }\n",
              "  </style>\n",
              "\n",
              "      <script>\n",
              "        const buttonEl =\n",
              "          document.querySelector('#df-167be96c-3a7f-474d-8e73-3236eebf3f4c button.colab-df-convert');\n",
              "        buttonEl.style.display =\n",
              "          google.colab.kernel.accessAllowed ? 'block' : 'none';\n",
              "\n",
              "        async function convertToInteractive(key) {\n",
              "          const element = document.querySelector('#df-167be96c-3a7f-474d-8e73-3236eebf3f4c');\n",
              "          const dataTable =\n",
              "            await google.colab.kernel.invokeFunction('convertToInteractive',\n",
              "                                                     [key], {});\n",
              "          if (!dataTable) return;\n",
              "\n",
              "          const docLinkHtml = 'Like what you see? Visit the ' +\n",
              "            '<a target=\"_blank\" href=https://colab.research.google.com/notebooks/data_table.ipynb>data table notebook</a>'\n",
              "            + ' to learn more about interactive tables.';\n",
              "          element.innerHTML = '';\n",
              "          dataTable['output_type'] = 'display_data';\n",
              "          await google.colab.output.renderOutput(dataTable, element);\n",
              "          const docLink = document.createElement('div');\n",
              "          docLink.innerHTML = docLinkHtml;\n",
              "          element.appendChild(docLink);\n",
              "        }\n",
              "      </script>\n",
              "    </div>\n",
              "  </div>\n",
              "  "
            ]
          },
          "metadata": {},
          "execution_count": 129
        }
      ]
    },
    {
      "cell_type": "code",
      "source": [],
      "metadata": {
        "id": "dlmGE1m5_wov"
      },
      "execution_count": null,
      "outputs": []
    },
    {
      "cell_type": "code",
      "source": [
        "pred = predict_model(best,data=test)"
      ],
      "metadata": {
        "id": "NDeeSNeJ5C0D"
      },
      "execution_count": null,
      "outputs": []
    }
  ]
}